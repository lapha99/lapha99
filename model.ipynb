{
  "nbformat": 4,
  "nbformat_minor": 0,
  "metadata": {
    "colab": {
      "name": "model.ipynb",
      "provenance": []
    },
    "kernelspec": {
      "name": "python3",
      "display_name": "Python 3"
    },
    "language_info": {
      "name": "python"
    }
  },
  "cells": [
    {
      "cell_type": "markdown",
      "source": [
        "Importation des données "
      ],
      "metadata": {
        "id": "-QpgxT9qsMQ8"
      }
    },
    {
      "cell_type": "code",
      "execution_count": 60,
      "metadata": {
        "id": "kEQw2R9krY_B"
      },
      "outputs": [],
      "source": [
        "import pandas as pd \n",
        "import numpy as np\n",
        "import matplotlib.pyplot as plt\n",
        "import seaborn as sns"
      ]
    },
    {
      "cell_type": "code",
      "source": [
        "df_=pd.read_csv('/content/AF_clean_commonensemble.csv',sep = \",\",index_col='Unnamed: 0')"
      ],
      "metadata": {
        "id": "nYFInXDWsWIA"
      },
      "execution_count": 61,
      "outputs": []
    },
    {
      "cell_type": "code",
      "source": [
        "df_.head()"
      ],
      "metadata": {
        "colab": {
          "base_uri": "https://localhost:8080/",
          "height": 300
        },
        "id": "N1Pr8P8DsV5y",
        "outputId": "d1878acb-a016-4e75-9af5-aeeb47775e0b"
      },
      "execution_count": 62,
      "outputs": [
        {
          "output_type": "execute_result",
          "data": {
            "text/plain": [
              "                 C01_FC_NS  C02_FC_S  C03_FB1_NS  C04_FB1_S  C05_FB2_NS  \\\n",
              "ENSG00000121410      63.18     55.44       58.71     120.75       53.60   \n",
              "ENSG00000268895     187.06    196.59      247.60     219.97      196.65   \n",
              "ENSG00000148584      71.01     63.08       72.32      61.91       66.78   \n",
              "ENSG00000175899     124.72    117.76      115.15      90.92       77.94   \n",
              "ENSG00000166535      52.92     47.73       56.08      44.88       53.37   \n",
              "\n",
              "                 C06_FB2_S  C19_FC_NS  C20_FC_S  C21_FB1_NS  C22_FB1_S  ...  \\\n",
              "ENSG00000121410      48.01      66.95     55.08       64.96      51.28  ...   \n",
              "ENSG00000268895     196.16     222.06    180.74      261.04     249.73  ...   \n",
              "ENSG00000148584      76.65      57.09     74.39       64.67      65.10  ...   \n",
              "ENSG00000175899      50.86     114.79     96.17      114.61      90.46  ...   \n",
              "ENSG00000166535      66.28      68.13     53.42       55.55      62.09  ...   \n",
              "\n",
              "                 C42_FB2_S     B1a     B1b     B1c     B2a     B2b     B2c  \\\n",
              "ENSG00000121410      65.82   68.19   53.93   59.21   61.68   75.61   43.32   \n",
              "ENSG00000268895     224.58  265.06  302.66  258.56  304.68  294.91  336.54   \n",
              "ENSG00000148584      66.67   58.04   53.60   62.41   59.78   63.23   64.47   \n",
              "ENSG00000175899     175.14   90.98   99.90   99.60   40.51   90.94   68.34   \n",
              "ENSG00000166535      57.61   59.78   59.70   58.10   47.26   55.83   45.26   \n",
              "\n",
              "                     Ca      Cb      Cc  \n",
              "ENSG00000121410   64.26   58.22   66.03  \n",
              "ENSG00000268895  247.02  239.66  354.33  \n",
              "ENSG00000148584   59.92   59.42   63.92  \n",
              "ENSG00000175899   92.96   92.69  102.75  \n",
              "ENSG00000166535   67.50   64.71   69.83  \n",
              "\n",
              "[5 rows x 27 columns]"
            ],
            "text/html": [
              "\n",
              "  <div id=\"df-03f0c980-0d86-469a-9ea9-2a0d5e7007c7\">\n",
              "    <div class=\"colab-df-container\">\n",
              "      <div>\n",
              "<style scoped>\n",
              "    .dataframe tbody tr th:only-of-type {\n",
              "        vertical-align: middle;\n",
              "    }\n",
              "\n",
              "    .dataframe tbody tr th {\n",
              "        vertical-align: top;\n",
              "    }\n",
              "\n",
              "    .dataframe thead th {\n",
              "        text-align: right;\n",
              "    }\n",
              "</style>\n",
              "<table border=\"1\" class=\"dataframe\">\n",
              "  <thead>\n",
              "    <tr style=\"text-align: right;\">\n",
              "      <th></th>\n",
              "      <th>C01_FC_NS</th>\n",
              "      <th>C02_FC_S</th>\n",
              "      <th>C03_FB1_NS</th>\n",
              "      <th>C04_FB1_S</th>\n",
              "      <th>C05_FB2_NS</th>\n",
              "      <th>C06_FB2_S</th>\n",
              "      <th>C19_FC_NS</th>\n",
              "      <th>C20_FC_S</th>\n",
              "      <th>C21_FB1_NS</th>\n",
              "      <th>C22_FB1_S</th>\n",
              "      <th>...</th>\n",
              "      <th>C42_FB2_S</th>\n",
              "      <th>B1a</th>\n",
              "      <th>B1b</th>\n",
              "      <th>B1c</th>\n",
              "      <th>B2a</th>\n",
              "      <th>B2b</th>\n",
              "      <th>B2c</th>\n",
              "      <th>Ca</th>\n",
              "      <th>Cb</th>\n",
              "      <th>Cc</th>\n",
              "    </tr>\n",
              "  </thead>\n",
              "  <tbody>\n",
              "    <tr>\n",
              "      <th>ENSG00000121410</th>\n",
              "      <td>63.18</td>\n",
              "      <td>55.44</td>\n",
              "      <td>58.71</td>\n",
              "      <td>120.75</td>\n",
              "      <td>53.60</td>\n",
              "      <td>48.01</td>\n",
              "      <td>66.95</td>\n",
              "      <td>55.08</td>\n",
              "      <td>64.96</td>\n",
              "      <td>51.28</td>\n",
              "      <td>...</td>\n",
              "      <td>65.82</td>\n",
              "      <td>68.19</td>\n",
              "      <td>53.93</td>\n",
              "      <td>59.21</td>\n",
              "      <td>61.68</td>\n",
              "      <td>75.61</td>\n",
              "      <td>43.32</td>\n",
              "      <td>64.26</td>\n",
              "      <td>58.22</td>\n",
              "      <td>66.03</td>\n",
              "    </tr>\n",
              "    <tr>\n",
              "      <th>ENSG00000268895</th>\n",
              "      <td>187.06</td>\n",
              "      <td>196.59</td>\n",
              "      <td>247.60</td>\n",
              "      <td>219.97</td>\n",
              "      <td>196.65</td>\n",
              "      <td>196.16</td>\n",
              "      <td>222.06</td>\n",
              "      <td>180.74</td>\n",
              "      <td>261.04</td>\n",
              "      <td>249.73</td>\n",
              "      <td>...</td>\n",
              "      <td>224.58</td>\n",
              "      <td>265.06</td>\n",
              "      <td>302.66</td>\n",
              "      <td>258.56</td>\n",
              "      <td>304.68</td>\n",
              "      <td>294.91</td>\n",
              "      <td>336.54</td>\n",
              "      <td>247.02</td>\n",
              "      <td>239.66</td>\n",
              "      <td>354.33</td>\n",
              "    </tr>\n",
              "    <tr>\n",
              "      <th>ENSG00000148584</th>\n",
              "      <td>71.01</td>\n",
              "      <td>63.08</td>\n",
              "      <td>72.32</td>\n",
              "      <td>61.91</td>\n",
              "      <td>66.78</td>\n",
              "      <td>76.65</td>\n",
              "      <td>57.09</td>\n",
              "      <td>74.39</td>\n",
              "      <td>64.67</td>\n",
              "      <td>65.10</td>\n",
              "      <td>...</td>\n",
              "      <td>66.67</td>\n",
              "      <td>58.04</td>\n",
              "      <td>53.60</td>\n",
              "      <td>62.41</td>\n",
              "      <td>59.78</td>\n",
              "      <td>63.23</td>\n",
              "      <td>64.47</td>\n",
              "      <td>59.92</td>\n",
              "      <td>59.42</td>\n",
              "      <td>63.92</td>\n",
              "    </tr>\n",
              "    <tr>\n",
              "      <th>ENSG00000175899</th>\n",
              "      <td>124.72</td>\n",
              "      <td>117.76</td>\n",
              "      <td>115.15</td>\n",
              "      <td>90.92</td>\n",
              "      <td>77.94</td>\n",
              "      <td>50.86</td>\n",
              "      <td>114.79</td>\n",
              "      <td>96.17</td>\n",
              "      <td>114.61</td>\n",
              "      <td>90.46</td>\n",
              "      <td>...</td>\n",
              "      <td>175.14</td>\n",
              "      <td>90.98</td>\n",
              "      <td>99.90</td>\n",
              "      <td>99.60</td>\n",
              "      <td>40.51</td>\n",
              "      <td>90.94</td>\n",
              "      <td>68.34</td>\n",
              "      <td>92.96</td>\n",
              "      <td>92.69</td>\n",
              "      <td>102.75</td>\n",
              "    </tr>\n",
              "    <tr>\n",
              "      <th>ENSG00000166535</th>\n",
              "      <td>52.92</td>\n",
              "      <td>47.73</td>\n",
              "      <td>56.08</td>\n",
              "      <td>44.88</td>\n",
              "      <td>53.37</td>\n",
              "      <td>66.28</td>\n",
              "      <td>68.13</td>\n",
              "      <td>53.42</td>\n",
              "      <td>55.55</td>\n",
              "      <td>62.09</td>\n",
              "      <td>...</td>\n",
              "      <td>57.61</td>\n",
              "      <td>59.78</td>\n",
              "      <td>59.70</td>\n",
              "      <td>58.10</td>\n",
              "      <td>47.26</td>\n",
              "      <td>55.83</td>\n",
              "      <td>45.26</td>\n",
              "      <td>67.50</td>\n",
              "      <td>64.71</td>\n",
              "      <td>69.83</td>\n",
              "    </tr>\n",
              "  </tbody>\n",
              "</table>\n",
              "<p>5 rows × 27 columns</p>\n",
              "</div>\n",
              "      <button class=\"colab-df-convert\" onclick=\"convertToInteractive('df-03f0c980-0d86-469a-9ea9-2a0d5e7007c7')\"\n",
              "              title=\"Convert this dataframe to an interactive table.\"\n",
              "              style=\"display:none;\">\n",
              "        \n",
              "  <svg xmlns=\"http://www.w3.org/2000/svg\" height=\"24px\"viewBox=\"0 0 24 24\"\n",
              "       width=\"24px\">\n",
              "    <path d=\"M0 0h24v24H0V0z\" fill=\"none\"/>\n",
              "    <path d=\"M18.56 5.44l.94 2.06.94-2.06 2.06-.94-2.06-.94-.94-2.06-.94 2.06-2.06.94zm-11 1L8.5 8.5l.94-2.06 2.06-.94-2.06-.94L8.5 2.5l-.94 2.06-2.06.94zm10 10l.94 2.06.94-2.06 2.06-.94-2.06-.94-.94-2.06-.94 2.06-2.06.94z\"/><path d=\"M17.41 7.96l-1.37-1.37c-.4-.4-.92-.59-1.43-.59-.52 0-1.04.2-1.43.59L10.3 9.45l-7.72 7.72c-.78.78-.78 2.05 0 2.83L4 21.41c.39.39.9.59 1.41.59.51 0 1.02-.2 1.41-.59l7.78-7.78 2.81-2.81c.8-.78.8-2.07 0-2.86zM5.41 20L4 18.59l7.72-7.72 1.47 1.35L5.41 20z\"/>\n",
              "  </svg>\n",
              "      </button>\n",
              "      \n",
              "  <style>\n",
              "    .colab-df-container {\n",
              "      display:flex;\n",
              "      flex-wrap:wrap;\n",
              "      gap: 12px;\n",
              "    }\n",
              "\n",
              "    .colab-df-convert {\n",
              "      background-color: #E8F0FE;\n",
              "      border: none;\n",
              "      border-radius: 50%;\n",
              "      cursor: pointer;\n",
              "      display: none;\n",
              "      fill: #1967D2;\n",
              "      height: 32px;\n",
              "      padding: 0 0 0 0;\n",
              "      width: 32px;\n",
              "    }\n",
              "\n",
              "    .colab-df-convert:hover {\n",
              "      background-color: #E2EBFA;\n",
              "      box-shadow: 0px 1px 2px rgba(60, 64, 67, 0.3), 0px 1px 3px 1px rgba(60, 64, 67, 0.15);\n",
              "      fill: #174EA6;\n",
              "    }\n",
              "\n",
              "    [theme=dark] .colab-df-convert {\n",
              "      background-color: #3B4455;\n",
              "      fill: #D2E3FC;\n",
              "    }\n",
              "\n",
              "    [theme=dark] .colab-df-convert:hover {\n",
              "      background-color: #434B5C;\n",
              "      box-shadow: 0px 1px 3px 1px rgba(0, 0, 0, 0.15);\n",
              "      filter: drop-shadow(0px 1px 2px rgba(0, 0, 0, 0.3));\n",
              "      fill: #FFFFFF;\n",
              "    }\n",
              "  </style>\n",
              "\n",
              "      <script>\n",
              "        const buttonEl =\n",
              "          document.querySelector('#df-03f0c980-0d86-469a-9ea9-2a0d5e7007c7 button.colab-df-convert');\n",
              "        buttonEl.style.display =\n",
              "          google.colab.kernel.accessAllowed ? 'block' : 'none';\n",
              "\n",
              "        async function convertToInteractive(key) {\n",
              "          const element = document.querySelector('#df-03f0c980-0d86-469a-9ea9-2a0d5e7007c7');\n",
              "          const dataTable =\n",
              "            await google.colab.kernel.invokeFunction('convertToInteractive',\n",
              "                                                     [key], {});\n",
              "          if (!dataTable) return;\n",
              "\n",
              "          const docLinkHtml = 'Like what you see? Visit the ' +\n",
              "            '<a target=\"_blank\" href=https://colab.research.google.com/notebooks/data_table.ipynb>data table notebook</a>'\n",
              "            + ' to learn more about interactive tables.';\n",
              "          element.innerHTML = '';\n",
              "          dataTable['output_type'] = 'display_data';\n",
              "          await google.colab.output.renderOutput(dataTable, element);\n",
              "          const docLink = document.createElement('div');\n",
              "          docLink.innerHTML = docLinkHtml;\n",
              "          element.appendChild(docLink);\n",
              "        }\n",
              "      </script>\n",
              "    </div>\n",
              "  </div>\n",
              "  "
            ]
          },
          "metadata": {},
          "execution_count": 62
        }
      ]
    },
    {
      "cell_type": "code",
      "source": [
        "df_.shape"
      ],
      "metadata": {
        "colab": {
          "base_uri": "https://localhost:8080/"
        },
        "id": "WA7crp4lxjeT",
        "outputId": "390ea686-dc06-4ace-a289-ee6b789a9e45"
      },
      "execution_count": 63,
      "outputs": [
        {
          "output_type": "execute_result",
          "data": {
            "text/plain": [
              "(20352, 27)"
            ]
          },
          "metadata": {},
          "execution_count": 63
        }
      ]
    },
    {
      "cell_type": "markdown",
      "source": [
        "Détection des valeurs abbérentes"
      ],
      "metadata": {
        "id": "CqEEJt7zsqgN"
      }
    },
    {
      "cell_type": "code",
      "source": [
        "plt.figure(figsize=(15,6))\n",
        "df_.boxplot(rot=90);"
      ],
      "metadata": {
        "colab": {
          "base_uri": "https://localhost:8080/",
          "height": 426
        },
        "id": "Yel3vW8msu4R",
        "outputId": "b24d0dc0-64a2-4e28-9667-6bfc51b8c1bc"
      },
      "execution_count": 64,
      "outputs": [
        {
          "output_type": "display_data",
          "data": {
            "text/plain": [
              "<Figure size 1080x432 with 1 Axes>"
            ],
            "image/png": "[encoded data removed]"
          },
          "metadata": {
            "needs_background": "light"
          }
        }
      ]
    },
    {
      "cell_type": "code",
      "source": [
        "features=df_.columns\n",
        "features"
      ],
      "metadata": {
        "colab": {
          "base_uri": "https://localhost:8080/"
        },
        "id": "rb7wB834vCup",
        "outputId": "48f881e5-194e-4ab5-8df1-8f2cdd0901f9"
      },
      "execution_count": 65,
      "outputs": [
        {
          "output_type": "execute_result",
          "data": {
            "text/plain": [
              "Index(['C01_FC_NS', 'C02_FC_S', 'C03_FB1_NS', 'C04_FB1_S', 'C05_FB2_NS',\n",
              "       'C06_FB2_S', 'C19_FC_NS', 'C20_FC_S', 'C21_FB1_NS', 'C22_FB1_S',\n",
              "       'C23_FB2_NS', 'C24_FB2_S', 'C37_FC_NS', 'C38_FC_S', 'C39_FB1_NS',\n",
              "       'C40_FB1_S', 'C41_FB2_NS', 'C42_FB2_S', 'B1a', 'B1b', 'B1c', 'B2a',\n",
              "       'B2b', 'B2c', 'Ca', 'Cb', 'Cc'],\n",
              "      dtype='object')"
            ]
          },
          "metadata": {},
          "execution_count": 65
        }
      ]
    },
    {
      "cell_type": "markdown",
      "source": [
        "Suppression des valeurs abbérentes"
      ],
      "metadata": {
        "id": "GgsvO9x0s3C1"
      }
    },
    {
      "cell_type": "code",
      "source": [
        "def drop_outliers(df,features):\n",
        "    Q1=np.percentile(df[feature],25)\n",
        "    Q3=np.percentile(df[feature],75)\n",
        "    limit=1.5*(Q3-Q1)\n",
        "    df.drop(df[df[feature] > limit + Q3].index, inplace=True)\n",
        "    df.drop(df[df[feature] < Q1 - limit].index, inplace=True)"
      ],
      "metadata": {
        "id": "5_uZHXebs8KJ"
      },
      "execution_count": 66,
      "outputs": []
    },
    {
      "cell_type": "code",
      "source": [
        "for feature in features:\n",
        "    drop_outliers(df_,feature)\n"
      ],
      "metadata": {
        "id": "XwHFGtgsv0mU"
      },
      "execution_count": 67,
      "outputs": []
    },
    {
      "cell_type": "code",
      "source": [
        "plt.figure(figsize=(15,6))\n",
        "df_.boxplot(rot=90);"
      ],
      "metadata": {
        "colab": {
          "base_uri": "https://localhost:8080/",
          "height": 426
        },
        "id": "jjLTtRbrvOlw",
        "outputId": "25174590-32b7-4e36-e49c-c063b119ee1f"
      },
      "execution_count": 68,
      "outputs": [
        {
          "output_type": "display_data",
          "data": {
            "text/plain": [
              "<Figure size 1080x432 with 1 Axes>"
            ],
            "image/png": "[encoded data removed]"
          },
          "metadata": {
            "needs_background": "light"
          }
        }
      ]
    },
    {
      "cell_type": "code",
      "source": [
        "iq_C01=df_['C01_FC_NS'].quantile(0.75)-df_['C01_FC_NS'].quantile(0.25)\n",
        "df_.drop(df_[df_['C01_FC_NS']>df_['C01_FC_NS'].quantile(0.75)+iq_C01].index,inplace=True)"
      ],
      "metadata": {
        "id": "TbXm5Uimzjq6"
      },
      "execution_count": 69,
      "outputs": []
    },
    {
      "cell_type": "code",
      "source": [
        "iq_C02=df_['C02_FC_S'].quantile(0.75)-df_['C02_FC_S'].quantile(0.25)\n",
        "df_.drop(df_[df_['C02_FC_S']>df_['C02_FC_S'].quantile(0.75)+iq_C02].index,inplace=True)"
      ],
      "metadata": {
        "id": "k6sky4A40-2J"
      },
      "execution_count": 70,
      "outputs": []
    },
    {
      "cell_type": "markdown",
      "source": [
        "Normalisation des données"
      ],
      "metadata": {
        "id": "886hdAEGwPg9"
      }
    },
    {
      "cell_type": "code",
      "source": [
        "X=df_.select_dtypes('number')\n",
        "X.shape"
      ],
      "metadata": {
        "colab": {
          "base_uri": "https://localhost:8080/"
        },
        "id": "cX7zJox5wwtL",
        "outputId": "f467c67b-3735-4ab8-f790-d174cc73678a"
      },
      "execution_count": 71,
      "outputs": [
        {
          "output_type": "execute_result",
          "data": {
            "text/plain": [
              "(4570, 27)"
            ]
          },
          "metadata": {},
          "execution_count": 71
        }
      ]
    },
    {
      "cell_type": "code",
      "source": [
        "from sklearn.preprocessing import StandardScaler"
      ],
      "metadata": {
        "id": "gq2Qgp1cwTWE"
      },
      "execution_count": 72,
      "outputs": []
    },
    {
      "cell_type": "code",
      "source": [
        "X_scaled=StandardScaler()\n",
        "X_scaled=X_scaled.fit_transform(X)"
      ],
      "metadata": {
        "id": "wgktJQ05wcWE"
      },
      "execution_count": 73,
      "outputs": []
    },
    {
      "cell_type": "code",
      "source": [
        "X_scaled=pd.DataFrame(X_scaled,index=X.index,columns=X.columns)"
      ],
      "metadata": {
        "id": "ctLvdS1P1-ik"
      },
      "execution_count": 74,
      "outputs": []
    },
    {
      "cell_type": "code",
      "source": [
        "#Affichons les variables\n",
        "sort_by_mean = X.mean().sort_values(ascending=True)"
      ],
      "metadata": {
        "id": "K2MrIGkX2lg9"
      },
      "execution_count": 76,
      "outputs": []
    },
    {
      "cell_type": "code",
      "source": [
        "X_scaled[sort_by_mean.index].plot(kind='box', figsize=(15, 4), rot=90)"
      ],
      "metadata": {
        "colab": {
          "base_uri": "https://localhost:8080/",
          "height": 335
        },
        "id": "hSM1yZBU2XVg",
        "outputId": "90ae78f0-8b81-4761-81b9-8e10c2886627"
      },
      "execution_count": 77,
      "outputs": [
        {
          "output_type": "execute_result",
          "data": {
            "text/plain": [
              "<matplotlib.axes._subplots.AxesSubplot at 0x7fe0723e6450>"
            ]
          },
          "metadata": {},
          "execution_count": 77
        },
        {
          "output_type": "display_data",
          "data": {
            "text/plain": [
              "<Figure size 1080x288 with 1 Axes>"
            ],
            "image/png": "[encoded data removed]"
          },
          "metadata": {
            "needs_background": "light"
          }
        }
      ]
    },
    {
      "cell_type": "markdown",
      "source": [
        "ACP"
      ],
      "metadata": {
        "id": "pShYcs5J2wj0"
      }
    },
    {
      "cell_type": "code",
      "source": [
        "from sklearn.decomposition import PCA"
      ],
      "metadata": {
        "id": "itkMqkQH2sEw"
      },
      "execution_count": 78,
      "outputs": []
    },
    {
      "cell_type": "code",
      "source": [
        "pca=PCA()"
      ],
      "metadata": {
        "id": "Hg2UdbIE27K3"
      },
      "execution_count": 80,
      "outputs": []
    },
    {
      "cell_type": "code",
      "source": [
        "X_PCA=pca.fit_transform(X_scaled.T)"
      ],
      "metadata": {
        "id": "sDr-doEA3Cs_"
      },
      "execution_count": 81,
      "outputs": []
    },
    {
      "cell_type": "code",
      "source": [
        "pca_columns=['PC' + str(c) for c in range(1,X_PCA.shape[1]+1,1)]\n",
        "X_PCA=pd.DataFrame(X_PCA,columns=pca_columns)\n",
        "X_PCA.head(2)"
      ],
      "metadata": {
        "colab": {
          "base_uri": "https://localhost:8080/",
          "height": 240
        },
        "id": "lJ8AQroD3Pz8",
        "outputId": "be7d59e9-c94e-4357-9e1b-590e7d173663"
      },
      "execution_count": 83,
      "outputs": [
        {
          "output_type": "execute_result",
          "data": {
            "text/plain": [
              "         PC1        PC2       PC3        PC4       PC5       PC6       PC7  \\\n",
              "0 -23.279787  -9.375210 -1.033079  -1.440876 -0.297474 -0.530248 -2.700615   \n",
              "1   3.352681 -16.498055 -5.508330 -10.248523  1.321887 -7.714771 -3.516057   \n",
              "\n",
              "        PC8       PC9      PC10  ...      PC18      PC19       PC20  \\\n",
              "0 -2.798442 -2.970531 -2.912832  ... -4.764695 -7.483524 -10.968491   \n",
              "1  5.935419 -3.667631 -7.738213  ... -2.856029 -4.410143 -12.262221   \n",
              "\n",
              "        PC21      PC22      PC23       PC24       PC25      PC26          PC27  \n",
              "0  -0.506683  1.317671 -4.371146  17.480681  19.327832  4.432836  9.246545e-15  \n",
              "1  15.110248  7.427575 -0.379817   2.597628 -16.356397 -2.685505  9.246545e-15  \n",
              "\n",
              "[2 rows x 27 columns]"
            ],
            "text/html": [
              "\n",
              "  <div id=\"df-69ea007d-44fb-47bc-8bd4-58202a577d3c\">\n",
              "    <div class=\"colab-df-container\">\n",
              "      <div>\n",
              "<style scoped>\n",
              "    .dataframe tbody tr th:only-of-type {\n",
              "        vertical-align: middle;\n",
              "    }\n",
              "\n",
              "    .dataframe tbody tr th {\n",
              "        vertical-align: top;\n",
              "    }\n",
              "\n",
              "    .dataframe thead th {\n",
              "        text-align: right;\n",
              "    }\n",
              "</style>\n",
              "<table border=\"1\" class=\"dataframe\">\n",
              "  <thead>\n",
              "    <tr style=\"text-align: right;\">\n",
              "      <th></th>\n",
              "      <th>PC1</th>\n",
              "      <th>PC2</th>\n",
              "      <th>PC3</th>\n",
              "      <th>PC4</th>\n",
              "      <th>PC5</th>\n",
              "      <th>PC6</th>\n",
              "      <th>PC7</th>\n",
              "      <th>PC8</th>\n",
              "      <th>PC9</th>\n",
              "      <th>PC10</th>\n",
              "      <th>...</th>\n",
              "      <th>PC18</th>\n",
              "      <th>PC19</th>\n",
              "      <th>PC20</th>\n",
              "      <th>PC21</th>\n",
              "      <th>PC22</th>\n",
              "      <th>PC23</th>\n",
              "      <th>PC24</th>\n",
              "      <th>PC25</th>\n",
              "      <th>PC26</th>\n",
              "      <th>PC27</th>\n",
              "    </tr>\n",
              "  </thead>\n",
              "  <tbody>\n",
              "    <tr>\n",
              "      <th>0</th>\n",
              "      <td>-23.279787</td>\n",
              "      <td>-9.375210</td>\n",
              "      <td>-1.033079</td>\n",
              "      <td>-1.440876</td>\n",
              "      <td>-0.297474</td>\n",
              "      <td>-0.530248</td>\n",
              "      <td>-2.700615</td>\n",
              "      <td>-2.798442</td>\n",
              "      <td>-2.970531</td>\n",
              "      <td>-2.912832</td>\n",
              "      <td>...</td>\n",
              "      <td>-4.764695</td>\n",
              "      <td>-7.483524</td>\n",
              "      <td>-10.968491</td>\n",
              "      <td>-0.506683</td>\n",
              "      <td>1.317671</td>\n",
              "      <td>-4.371146</td>\n",
              "      <td>17.480681</td>\n",
              "      <td>19.327832</td>\n",
              "      <td>4.432836</td>\n",
              "      <td>9.246545e-15</td>\n",
              "    </tr>\n",
              "    <tr>\n",
              "      <th>1</th>\n",
              "      <td>3.352681</td>\n",
              "      <td>-16.498055</td>\n",
              "      <td>-5.508330</td>\n",
              "      <td>-10.248523</td>\n",
              "      <td>1.321887</td>\n",
              "      <td>-7.714771</td>\n",
              "      <td>-3.516057</td>\n",
              "      <td>5.935419</td>\n",
              "      <td>-3.667631</td>\n",
              "      <td>-7.738213</td>\n",
              "      <td>...</td>\n",
              "      <td>-2.856029</td>\n",
              "      <td>-4.410143</td>\n",
              "      <td>-12.262221</td>\n",
              "      <td>15.110248</td>\n",
              "      <td>7.427575</td>\n",
              "      <td>-0.379817</td>\n",
              "      <td>2.597628</td>\n",
              "      <td>-16.356397</td>\n",
              "      <td>-2.685505</td>\n",
              "      <td>9.246545e-15</td>\n",
              "    </tr>\n",
              "  </tbody>\n",
              "</table>\n",
              "<p>2 rows × 27 columns</p>\n",
              "</div>\n",
              "      <button class=\"colab-df-convert\" onclick=\"convertToInteractive('df-69ea007d-44fb-47bc-8bd4-58202a577d3c')\"\n",
              "              title=\"Convert this dataframe to an interactive table.\"\n",
              "              style=\"display:none;\">\n",
              "        \n",
              "  <svg xmlns=\"http://www.w3.org/2000/svg\" height=\"24px\"viewBox=\"0 0 24 24\"\n",
              "       width=\"24px\">\n",
              "    <path d=\"M0 0h24v24H0V0z\" fill=\"none\"/>\n",
              "    <path d=\"M18.56 5.44l.94 2.06.94-2.06 2.06-.94-2.06-.94-.94-2.06-.94 2.06-2.06.94zm-11 1L8.5 8.5l.94-2.06 2.06-.94-2.06-.94L8.5 2.5l-.94 2.06-2.06.94zm10 10l.94 2.06.94-2.06 2.06-.94-2.06-.94-.94-2.06-.94 2.06-2.06.94z\"/><path d=\"M17.41 7.96l-1.37-1.37c-.4-.4-.92-.59-1.43-.59-.52 0-1.04.2-1.43.59L10.3 9.45l-7.72 7.72c-.78.78-.78 2.05 0 2.83L4 21.41c.39.39.9.59 1.41.59.51 0 1.02-.2 1.41-.59l7.78-7.78 2.81-2.81c.8-.78.8-2.07 0-2.86zM5.41 20L4 18.59l7.72-7.72 1.47 1.35L5.41 20z\"/>\n",
              "  </svg>\n",
              "      </button>\n",
              "      \n",
              "  <style>\n",
              "    .colab-df-container {\n",
              "      display:flex;\n",
              "      flex-wrap:wrap;\n",
              "      gap: 12px;\n",
              "    }\n",
              "\n",
              "    .colab-df-convert {\n",
              "      background-color: #E8F0FE;\n",
              "      border: none;\n",
              "      border-radius: 50%;\n",
              "      cursor: pointer;\n",
              "      display: none;\n",
              "      fill: #1967D2;\n",
              "      height: 32px;\n",
              "      padding: 0 0 0 0;\n",
              "      width: 32px;\n",
              "    }\n",
              "\n",
              "    .colab-df-convert:hover {\n",
              "      background-color: #E2EBFA;\n",
              "      box-shadow: 0px 1px 2px rgba(60, 64, 67, 0.3), 0px 1px 3px 1px rgba(60, 64, 67, 0.15);\n",
              "      fill: #174EA6;\n",
              "    }\n",
              "\n",
              "    [theme=dark] .colab-df-convert {\n",
              "      background-color: #3B4455;\n",
              "      fill: #D2E3FC;\n",
              "    }\n",
              "\n",
              "    [theme=dark] .colab-df-convert:hover {\n",
              "      background-color: #434B5C;\n",
              "      box-shadow: 0px 1px 3px 1px rgba(0, 0, 0, 0.15);\n",
              "      filter: drop-shadow(0px 1px 2px rgba(0, 0, 0, 0.3));\n",
              "      fill: #FFFFFF;\n",
              "    }\n",
              "  </style>\n",
              "\n",
              "      <script>\n",
              "        const buttonEl =\n",
              "          document.querySelector('#df-69ea007d-44fb-47bc-8bd4-58202a577d3c button.colab-df-convert');\n",
              "        buttonEl.style.display =\n",
              "          google.colab.kernel.accessAllowed ? 'block' : 'none';\n",
              "\n",
              "        async function convertToInteractive(key) {\n",
              "          const element = document.querySelector('#df-69ea007d-44fb-47bc-8bd4-58202a577d3c');\n",
              "          const dataTable =\n",
              "            await google.colab.kernel.invokeFunction('convertToInteractive',\n",
              "                                                     [key], {});\n",
              "          if (!dataTable) return;\n",
              "\n",
              "          const docLinkHtml = 'Like what you see? Visit the ' +\n",
              "            '<a target=\"_blank\" href=https://colab.research.google.com/notebooks/data_table.ipynb>data table notebook</a>'\n",
              "            + ' to learn more about interactive tables.';\n",
              "          element.innerHTML = '';\n",
              "          dataTable['output_type'] = 'display_data';\n",
              "          await google.colab.output.renderOutput(dataTable, element);\n",
              "          const docLink = document.createElement('div');\n",
              "          docLink.innerHTML = docLinkHtml;\n",
              "          element.appendChild(docLink);\n",
              "        }\n",
              "      </script>\n",
              "    </div>\n",
              "  </div>\n",
              "  "
            ]
          },
          "metadata": {},
          "execution_count": 83
        }
      ]
    },
    {
      "cell_type": "markdown",
      "source": [
        "Variance expliquée "
      ],
      "metadata": {
        "id": "2fsdHuC04Mjb"
      }
    },
    {
      "cell_type": "code",
      "source": [
        "pca.explained_variance_ratio_"
      ],
      "metadata": {
        "colab": {
          "base_uri": "https://localhost:8080/"
        },
        "id": "XYDh3cjy4HAY",
        "outputId": "4e4c5128-5dbf-4df3-f9ea-4175eb913bcd"
      },
      "execution_count": 84,
      "outputs": [
        {
          "output_type": "execute_result",
          "data": {
            "text/plain": [
              "array([1.23564706e-01, 9.23038076e-02, 6.25206581e-02, 5.29430264e-02,\n",
              "       4.91038656e-02, 4.71312426e-02, 4.52908713e-02, 4.09358274e-02,\n",
              "       4.03424048e-02, 3.96772671e-02, 3.73546593e-02, 3.53479958e-02,\n",
              "       3.41220920e-02, 3.08083287e-02, 2.92499980e-02, 2.80913267e-02,\n",
              "       2.74483078e-02, 2.58419399e-02, 2.40160289e-02, 2.29830592e-02,\n",
              "       2.07919367e-02, 1.95483342e-02, 1.89891595e-02, 1.83481022e-02,\n",
              "       1.76965079e-02, 1.55485463e-02, 3.85351439e-32])"
            ]
          },
          "metadata": {},
          "execution_count": 84
        }
      ]
    },
    {
      "cell_type": "code",
      "source": [
        "explaind_var=pd.Series(dict(zip(X_PCA.columns,100*pca.explained_variance_ratio_)))\n",
        "print(explaind_var.head())"
      ],
      "metadata": {
        "colab": {
          "base_uri": "https://localhost:8080/"
        },
        "id": "2FZ1rZgM4X-6",
        "outputId": "f7e91b43-c2ba-457c-e192-4bbe9cbcfada"
      },
      "execution_count": 86,
      "outputs": [
        {
          "output_type": "stream",
          "name": "stdout",
          "text": [
            "PC1    12.356471\n",
            "PC2     9.230381\n",
            "PC3     6.252066\n",
            "PC4     5.294303\n",
            "PC5     4.910387\n",
            "dtype: float64\n"
          ]
        }
      ]
    },
    {
      "cell_type": "code",
      "source": [
        "explaind_var.plot(kind='bar',figsize=(15,5),rot=90,ylabel='explained variance')\n",
        "plt.title('Diagramme des variances expliquées en fonction des ACP')\n",
        "plt.show()"
      ],
      "metadata": {
        "colab": {
          "base_uri": "https://localhost:8080/",
          "height": 351
        },
        "id": "PptBln9b5Kpq",
        "outputId": "4ec51e24-2ba9-421e-8555-96c218aa2d8b"
      },
      "execution_count": 88,
      "outputs": [
        {
          "output_type": "display_data",
          "data": {
            "text/plain": [
              "<Figure size 1080x360 with 1 Axes>"
            ],
            "image/png": "[encoded data removed]"
          },
          "metadata": {
            "needs_background": "light"
          }
        }
      ]
    },
    {
      "cell_type": "code",
      "source": [
        "explaind_var['PC1']+explaind_var['PC2']"
      ],
      "metadata": {
        "colab": {
          "base_uri": "https://localhost:8080/"
        },
        "id": "hpU89sDX5U-H",
        "outputId": "fd6cba41-6b4f-4001-aa05-41e085dbb183"
      },
      "execution_count": 89,
      "outputs": [
        {
          "output_type": "execute_result",
          "data": {
            "text/plain": [
              "21.586851353481386"
            ]
          },
          "metadata": {},
          "execution_count": 89
        }
      ]
    },
    {
      "cell_type": "code",
      "source": [
        "X_PCA['obs']=X.columns"
      ],
      "metadata": {
        "id": "BbDj1wM05jkS"
      },
      "execution_count": 90,
      "outputs": []
    },
    {
      "cell_type": "markdown",
      "source": [
        "Visualisation ACP"
      ],
      "metadata": {
        "id": "NYZA-0jP5wJ4"
      }
    },
    {
      "cell_type": "code",
      "source": [
        "fig, ax = plt.subplots(figsize=(15,8))\n",
        "plt.axvline(x = 0, linewidth = .5, color = \"dimgray\", linestyle = \"--\")\n",
        "plt.axhline(y = 0, linewidth = .5, color = \"dimgray\", linestyle = \"--\")\n",
        "sns.scatterplot(x=\"PC1\",y='PC2',data=X_PCA,hue='obs',style='obs')\n",
        "\n",
        "\n",
        "for k in X_PCA.iterrows():\n",
        "    # annotation uniquement si valeur absolue sur une de 2 dimensions importantes (valeurs choisies empiriquement)\n",
        "    if (abs(k[1]['PC1']) > 3.5) | (abs(k[1]['PC2']) > 1.5):\n",
        "        ax.annotate(k[1][\"obs\"], (k[1]['PC1'], k[1]['PC2']), fontsize = 9)\n",
        "\n",
        "plt.xlabel('PC1 - ' + '{:.1f}%'.format(explaind_var['PC1']))\n",
        "plt.ylabel('PC2 - ' + '{:.1f}%'.format(explaind_var['PC2']))\n",
        "plt.legend()\n",
        "plt.suptitle(\"Premier plan factoriel (21,58%)\")\n",
        "plt.show()"
      ],
      "metadata": {
        "colab": {
          "base_uri": "https://localhost:8080/",
          "height": 554
        },
        "id": "dM93wH5u5uaE",
        "outputId": "3b851de7-6f6a-4ab3-9768-33ab797d2e13"
      },
      "execution_count": 91,
      "outputs": [
        {
          "output_type": "display_data",
          "data": {
            "text/plain": [
              "<Figure size 1080x576 with 1 Axes>"
            ],
            "image/png": "[encoded data removed]"
          },
          "metadata": {
            "needs_background": "light"
          }
        }
      ]
    },
    {
      "cell_type": "markdown",
      "source": [
        "TSNE"
      ],
      "metadata": {
        "id": "HYDhk2JO6YL_"
      }
    },
    {
      "cell_type": "code",
      "source": [
        "from sklearn.manifold import TSNE"
      ],
      "metadata": {
        "id": "kCmhgKPP6WtN"
      },
      "execution_count": 92,
      "outputs": []
    },
    {
      "cell_type": "code",
      "source": [
        "tsne=TSNE(n_components=2,perplexity=5,init='pca',random_state=0,n_jobs=-1)"
      ],
      "metadata": {
        "id": "hd7YHOOq6jjP"
      },
      "execution_count": 120,
      "outputs": []
    },
    {
      "cell_type": "code",
      "source": [
        "X_TSNE=tsne.fit_transform(X_scaled.T)"
      ],
      "metadata": {
        "colab": {
          "base_uri": "https://localhost:8080/"
        },
        "id": "aZ9lfBFn7QEL",
        "outputId": "41d447f4-1c30-4b3a-97ce-a3b710fc24bc"
      },
      "execution_count": 121,
      "outputs": [
        {
          "output_type": "stream",
          "name": "stderr",
          "text": [
            "/usr/local/lib/python3.7/dist-packages/sklearn/manifold/_t_sne.py:793: FutureWarning: The default learning rate in TSNE will change from 200.0 to 'auto' in 1.2.\n",
            "  FutureWarning,\n",
            "/usr/local/lib/python3.7/dist-packages/sklearn/manifold/_t_sne.py:986: FutureWarning: The PCA initialization in TSNE will change to have the standard deviation of PC1 equal to 1e-4 in 1.2. This will ensure better convergence.\n",
            "  FutureWarning,\n"
          ]
        }
      ]
    },
    {
      "cell_type": "code",
      "source": [
        "tsne_columns=[\"DIM\"+str(c) for c in range(1, X_TSNE.shape[1]+1,1)]\n",
        "X_tsne=pd.DataFrame(X_TSNE,columns=tsne_columns)"
      ],
      "metadata": {
        "id": "5SwYBq_X7jbN"
      },
      "execution_count": 122,
      "outputs": []
    },
    {
      "cell_type": "code",
      "source": [
        "X_tsne['obs']=df_.columns"
      ],
      "metadata": {
        "id": "vFnaP0t08jSb"
      },
      "execution_count": 123,
      "outputs": []
    },
    {
      "cell_type": "code",
      "source": [
        "X_tsne.head()"
      ],
      "metadata": {
        "colab": {
          "base_uri": "https://localhost:8080/",
          "height": 206
        },
        "id": "vH9W8zHd8m3E",
        "outputId": "7bf88b6c-840c-4d08-9774-dbd2efff08c6"
      },
      "execution_count": 124,
      "outputs": [
        {
          "output_type": "execute_result",
          "data": {
            "text/plain": [
              "         DIM1        DIM2         obs\n",
              "0  148.688248  216.811249   C01_FC_NS\n",
              "1 -208.492065  184.730621    C02_FC_S\n",
              "2  228.304855  247.979568  C03_FB1_NS\n",
              "3 -456.472046  131.793335   C04_FB1_S\n",
              "4  292.774658  130.717865  C05_FB2_NS"
            ],
            "text/html": [
              "\n",
              "  <div id=\"df-9d3b34d3-e3d8-4d27-8388-6dd291a2c3c1\">\n",
              "    <div class=\"colab-df-container\">\n",
              "      <div>\n",
              "<style scoped>\n",
              "    .dataframe tbody tr th:only-of-type {\n",
              "        vertical-align: middle;\n",
              "    }\n",
              "\n",
              "    .dataframe tbody tr th {\n",
              "        vertical-align: top;\n",
              "    }\n",
              "\n",
              "    .dataframe thead th {\n",
              "        text-align: right;\n",
              "    }\n",
              "</style>\n",
              "<table border=\"1\" class=\"dataframe\">\n",
              "  <thead>\n",
              "    <tr style=\"text-align: right;\">\n",
              "      <th></th>\n",
              "      <th>DIM1</th>\n",
              "      <th>DIM2</th>\n",
              "      <th>obs</th>\n",
              "    </tr>\n",
              "  </thead>\n",
              "  <tbody>\n",
              "    <tr>\n",
              "      <th>0</th>\n",
              "      <td>148.688248</td>\n",
              "      <td>216.811249</td>\n",
              "      <td>C01_FC_NS</td>\n",
              "    </tr>\n",
              "    <tr>\n",
              "      <th>1</th>\n",
              "      <td>-208.492065</td>\n",
              "      <td>184.730621</td>\n",
              "      <td>C02_FC_S</td>\n",
              "    </tr>\n",
              "    <tr>\n",
              "      <th>2</th>\n",
              "      <td>228.304855</td>\n",
              "      <td>247.979568</td>\n",
              "      <td>C03_FB1_NS</td>\n",
              "    </tr>\n",
              "    <tr>\n",
              "      <th>3</th>\n",
              "      <td>-456.472046</td>\n",
              "      <td>131.793335</td>\n",
              "      <td>C04_FB1_S</td>\n",
              "    </tr>\n",
              "    <tr>\n",
              "      <th>4</th>\n",
              "      <td>292.774658</td>\n",
              "      <td>130.717865</td>\n",
              "      <td>C05_FB2_NS</td>\n",
              "    </tr>\n",
              "  </tbody>\n",
              "</table>\n",
              "</div>\n",
              "      <button class=\"colab-df-convert\" onclick=\"convertToInteractive('df-9d3b34d3-e3d8-4d27-8388-6dd291a2c3c1')\"\n",
              "              title=\"Convert this dataframe to an interactive table.\"\n",
              "              style=\"display:none;\">\n",
              "        \n",
              "  <svg xmlns=\"http://www.w3.org/2000/svg\" height=\"24px\"viewBox=\"0 0 24 24\"\n",
              "       width=\"24px\">\n",
              "    <path d=\"M0 0h24v24H0V0z\" fill=\"none\"/>\n",
              "    <path d=\"M18.56 5.44l.94 2.06.94-2.06 2.06-.94-2.06-.94-.94-2.06-.94 2.06-2.06.94zm-11 1L8.5 8.5l.94-2.06 2.06-.94-2.06-.94L8.5 2.5l-.94 2.06-2.06.94zm10 10l.94 2.06.94-2.06 2.06-.94-2.06-.94-.94-2.06-.94 2.06-2.06.94z\"/><path d=\"M17.41 7.96l-1.37-1.37c-.4-.4-.92-.59-1.43-.59-.52 0-1.04.2-1.43.59L10.3 9.45l-7.72 7.72c-.78.78-.78 2.05 0 2.83L4 21.41c.39.39.9.59 1.41.59.51 0 1.02-.2 1.41-.59l7.78-7.78 2.81-2.81c.8-.78.8-2.07 0-2.86zM5.41 20L4 18.59l7.72-7.72 1.47 1.35L5.41 20z\"/>\n",
              "  </svg>\n",
              "      </button>\n",
              "      \n",
              "  <style>\n",
              "    .colab-df-container {\n",
              "      display:flex;\n",
              "      flex-wrap:wrap;\n",
              "      gap: 12px;\n",
              "    }\n",
              "\n",
              "    .colab-df-convert {\n",
              "      background-color: #E8F0FE;\n",
              "      border: none;\n",
              "      border-radius: 50%;\n",
              "      cursor: pointer;\n",
              "      display: none;\n",
              "      fill: #1967D2;\n",
              "      height: 32px;\n",
              "      padding: 0 0 0 0;\n",
              "      width: 32px;\n",
              "    }\n",
              "\n",
              "    .colab-df-convert:hover {\n",
              "      background-color: #E2EBFA;\n",
              "      box-shadow: 0px 1px 2px rgba(60, 64, 67, 0.3), 0px 1px 3px 1px rgba(60, 64, 67, 0.15);\n",
              "      fill: #174EA6;\n",
              "    }\n",
              "\n",
              "    [theme=dark] .colab-df-convert {\n",
              "      background-color: #3B4455;\n",
              "      fill: #D2E3FC;\n",
              "    }\n",
              "\n",
              "    [theme=dark] .colab-df-convert:hover {\n",
              "      background-color: #434B5C;\n",
              "      box-shadow: 0px 1px 3px 1px rgba(0, 0, 0, 0.15);\n",
              "      filter: drop-shadow(0px 1px 2px rgba(0, 0, 0, 0.3));\n",
              "      fill: #FFFFFF;\n",
              "    }\n",
              "  </style>\n",
              "\n",
              "      <script>\n",
              "        const buttonEl =\n",
              "          document.querySelector('#df-9d3b34d3-e3d8-4d27-8388-6dd291a2c3c1 button.colab-df-convert');\n",
              "        buttonEl.style.display =\n",
              "          google.colab.kernel.accessAllowed ? 'block' : 'none';\n",
              "\n",
              "        async function convertToInteractive(key) {\n",
              "          const element = document.querySelector('#df-9d3b34d3-e3d8-4d27-8388-6dd291a2c3c1');\n",
              "          const dataTable =\n",
              "            await google.colab.kernel.invokeFunction('convertToInteractive',\n",
              "                                                     [key], {});\n",
              "          if (!dataTable) return;\n",
              "\n",
              "          const docLinkHtml = 'Like what you see? Visit the ' +\n",
              "            '<a target=\"_blank\" href=https://colab.research.google.com/notebooks/data_table.ipynb>data table notebook</a>'\n",
              "            + ' to learn more about interactive tables.';\n",
              "          element.innerHTML = '';\n",
              "          dataTable['output_type'] = 'display_data';\n",
              "          await google.colab.output.renderOutput(dataTable, element);\n",
              "          const docLink = document.createElement('div');\n",
              "          docLink.innerHTML = docLinkHtml;\n",
              "          element.appendChild(docLink);\n",
              "        }\n",
              "      </script>\n",
              "    </div>\n",
              "  </div>\n",
              "  "
            ]
          },
          "metadata": {},
          "execution_count": 124
        }
      ]
    },
    {
      "cell_type": "markdown",
      "source": [
        "Visualisation TSNE"
      ],
      "metadata": {
        "id": "f8uwoWCl8wfA"
      }
    },
    {
      "cell_type": "code",
      "source": [
        "fig, ax = plt.subplots(figsize=(15,8))\n",
        "plt.axvline(x = 0, linewidth = .5, color = \"dimgray\", linestyle = \"--\")\n",
        "plt.axhline(y = 0, linewidth = .5, color = \"dimgray\", linestyle = \"--\")\n",
        "sns.scatterplot(x=\"DIM1\",y='DIM2',data=X_tsne,hue=\"obs\",style=\"obs\")\n",
        "\n",
        "\n",
        "for k in X_tsne.iterrows():\n",
        "    # annotation uniquement si valeur absolue sur une de 2 dimensions importantes (valeurs choisies empiriquement)\n",
        "    if (abs(k[1]['DIM1']) > 0.1) | (abs(k[1]['DIM2']) >4):\n",
        "        ax.annotate(k[1][\"obs\"], (k[1]['DIM1'], k[1]['DIM2']), fontsize = 9)\n",
        "\n",
        "plt.xlabel('DIM1' )\n",
        "plt.ylabel('DIM2')\n",
        "plt.legend()\n",
        "plt.suptitle(\"Visualisation avec T-SNE\")\n",
        "plt.show()"
      ],
      "metadata": {
        "colab": {
          "base_uri": "https://localhost:8080/",
          "height": 554
        },
        "id": "NxHj0lP_81Sj",
        "outputId": "e37ce513-0916-4a5e-f566-93b95231d3e1"
      },
      "execution_count": 125,
      "outputs": [
        {
          "output_type": "display_data",
          "data": {
            "text/plain": [
              "<Figure size 1080x576 with 1 Axes>"
            ],
            "image/png": "[encoded data removed]"
          },
          "metadata": {
            "needs_background": "light"
          }
        }
      ]
    },
    {
      "cell_type": "markdown",
      "source": [
        "Construction  de notre modéle"
      ],
      "metadata": {
        "id": "g8iygTqS-7Jo"
      }
    },
    {
      "cell_type": "code",
      "source": [
        "import pydot\n",
        "import graphviz\n",
        "from IPython.display import SVG\n",
        "from keras.utils.vis_utils import model_to_dot"
      ],
      "metadata": {
        "id": "S7_CHHHC-6UR"
      },
      "execution_count": 126,
      "outputs": []
    },
    {
      "cell_type": "code",
      "source": [
        "from keras.layers import Input, Dense, Dropout, Activation,Lambda,Layer\n",
        "from keras.layers.noise import GaussianDropout\n",
        "from keras.models import Model\n",
        "from keras.regularizers import l1\n",
        "from tensorflow.keras.optimizers import Adam\n",
        "from keras.wrappers.scikit_learn import KerasRegressor \n",
        "from sklearn.model_selection import RandomizedSearchCV\n",
        "from sklearn.model_selection import KFold \n",
        "from sklearn.model_selection import cross_val_score\n",
        "import keras\n",
        "from keras import layers\n",
        "from tensorflow.keras.callbacks import EarlyStopping"
      ],
      "metadata": {
        "id": "H2a07dNC_ZiJ"
      },
      "execution_count": 127,
      "outputs": []
    },
    {
      "cell_type": "code",
      "source": [
        "from tensorflow.keras.utils import plot_model"
      ],
      "metadata": {
        "id": "4LcY8-Vz_lh2"
      },
      "execution_count": 128,
      "outputs": []
    },
    {
      "cell_type": "code",
      "source": [
        "from tensorflow.keras.models import Sequential"
      ],
      "metadata": {
        "id": "vlNnOWL6_pul"
      },
      "execution_count": 129,
      "outputs": []
    },
    {
      "cell_type": "code",
      "source": [
        "early_stop=EarlyStopping(monitor='val_loss',mode='min',patience=25,verbose=1)"
      ],
      "metadata": {
        "id": "CidVWr2r_xQg"
      },
      "execution_count": 183,
      "outputs": []
    },
    {
      "cell_type": "code",
      "source": [
        "X_norm=X_scaled.T"
      ],
      "metadata": {
        "id": "emHb0tlY__Po"
      },
      "execution_count": 131,
      "outputs": []
    },
    {
      "cell_type": "code",
      "source": [
        "np.random.seed(123)\n",
        "test_set_percent = 0.1\n",
        "cp1_test = X_norm.sample(frac=test_set_percent)\n",
        "cp1_train = X_norm.drop(cp1_test.index)"
      ],
      "metadata": {
        "id": "5ci3p6oh_zKU"
      },
      "execution_count": 132,
      "outputs": []
    },
    {
      "cell_type": "markdown",
      "source": [
        "Encoder"
      ],
      "metadata": {
        "id": "cx-KXC1zAKax"
      }
    },
    {
      "cell_type": "code",
      "source": [
        "encoder=Sequential()\n",
        "encoder.add(Dense(units=2000,activation='relu',input_shape=[4570]))\n",
        "encoder.add(Dense(units=1000,activation='relu',input_shape=[2000]))\n",
        "encoder.add(Dense(units=500,activation='relu',input_shape=[1000]))\n",
        "encoder.add(Dense(units=250,activation='relu',input_shape=[500]))\n",
        "encoder.add(Dense(units=100,activation='relu',input_shape=[250]))\n",
        "encoder.summary()\n"
      ],
      "metadata": {
        "colab": {
          "base_uri": "https://localhost:8080/"
        },
        "id": "KQFBhEeAAHJE",
        "outputId": "1d83b38a-c772-4404-e5ac-0f1776abf163"
      },
      "execution_count": 184,
      "outputs": [
        {
          "output_type": "stream",
          "name": "stdout",
          "text": [
            "Model: \"sequential_25\"\n",
            "_________________________________________________________________\n",
            " Layer (type)                Output Shape              Param #   \n",
            "=================================================================\n",
            " dense_49 (Dense)            (None, 2000)              9142000   \n",
            "                                                                 \n",
            " dense_50 (Dense)            (None, 1000)              2001000   \n",
            "                                                                 \n",
            " dense_51 (Dense)            (None, 500)               500500    \n",
            "                                                                 \n",
            " dense_52 (Dense)            (None, 250)               125250    \n",
            "                                                                 \n",
            " dense_53 (Dense)            (None, 100)               25100     \n",
            "                                                                 \n",
            "=================================================================\n",
            "Total params: 11,793,850\n",
            "Trainable params: 11,793,850\n",
            "Non-trainable params: 0\n",
            "_________________________________________________________________\n"
          ]
        }
      ]
    },
    {
      "cell_type": "code",
      "source": [
        "decoder=Sequential()\n",
        "decoder.add(Dense(units=250,activation='relu',input_shape=[100]))\n",
        "decoder.add(Dense(units=500,activation='relu',input_shape=[250]))\n",
        "decoder.add(Dense(units=1000,activation='relu',input_shape=[500]))\n",
        "decoder.add(Dense(units=2000,activation='relu',input_shape=[1000]))\n",
        "decoder.add(Dense(units=4570,activation='relu',input_shape=[2000]))"
      ],
      "metadata": {
        "id": "IkR6CUzWBSSd"
      },
      "execution_count": 185,
      "outputs": []
    },
    {
      "cell_type": "markdown",
      "source": [
        "Autoencoder"
      ],
      "metadata": {
        "id": "HhUaGKrgBkk0"
      }
    },
    {
      "cell_type": "code",
      "source": [
        "autoencoder=Sequential([encoder,decoder])"
      ],
      "metadata": {
        "id": "WncOxnbYBmw7"
      },
      "execution_count": 186,
      "outputs": []
    },
    {
      "cell_type": "code",
      "source": [
        "autoencoder.compile(optimizer=Adam(learning_rate = 0.001), loss='mse')"
      ],
      "metadata": {
        "id": "iivfsRFXB-n1"
      },
      "execution_count": 187,
      "outputs": []
    },
    {
      "cell_type": "code",
      "source": [
        "AE=autoencoder.fit(np.array(cp1_train), np.array(cp1_train),\n",
        "                epochs=100,\n",
        "                batch_size=50,\n",
        "                shuffle=True,\n",
        "                validation_data=(np.array(cp1_test), np.array(cp1_test)),\n",
        "                callbacks=[early_stop])"
      ],
      "metadata": {
        "colab": {
          "base_uri": "https://localhost:8080/"
        },
        "id": "Di9s3ER9CzBe",
        "outputId": "dbdef568-3b78-472e-e596-0f0bde2004d2"
      },
      "execution_count": 188,
      "outputs": [
        {
          "output_type": "stream",
          "name": "stdout",
          "text": [
            "Epoch 1/100\n",
            "1/1 [==============================] - 1s 1s/step - loss: 1.0007 - val_loss: 0.9768\n",
            "Epoch 2/100\n",
            "1/1 [==============================] - 0s 214ms/step - loss: 0.9652 - val_loss: 1.5645\n",
            "Epoch 3/100\n",
            "1/1 [==============================] - 0s 214ms/step - loss: 1.7921 - val_loss: 0.9341\n",
            "Epoch 4/100\n",
            "1/1 [==============================] - 0s 218ms/step - loss: 0.8994 - val_loss: 0.9659\n",
            "Epoch 5/100\n",
            "1/1 [==============================] - 0s 208ms/step - loss: 0.9473 - val_loss: 0.9488\n",
            "Epoch 6/100\n",
            "1/1 [==============================] - 0s 201ms/step - loss: 0.9187 - val_loss: 0.9051\n",
            "Epoch 7/100\n",
            "1/1 [==============================] - 0s 207ms/step - loss: 0.8440 - val_loss: 1.0068\n",
            "Epoch 8/100\n",
            "1/1 [==============================] - 0s 210ms/step - loss: 0.9729 - val_loss: 0.8803\n",
            "Epoch 9/100\n",
            "1/1 [==============================] - 0s 213ms/step - loss: 0.7977 - val_loss: 0.9004\n",
            "Epoch 10/100\n",
            "1/1 [==============================] - 0s 212ms/step - loss: 0.8342 - val_loss: 0.9109\n",
            "Epoch 11/100\n",
            "1/1 [==============================] - 0s 214ms/step - loss: 0.8515 - val_loss: 0.9049\n",
            "Epoch 12/100\n",
            "1/1 [==============================] - 0s 211ms/step - loss: 0.8408 - val_loss: 0.8896\n",
            "Epoch 13/100\n",
            "1/1 [==============================] - 0s 223ms/step - loss: 0.8130 - val_loss: 0.8890\n",
            "Epoch 14/100\n",
            "1/1 [==============================] - 0s 210ms/step - loss: 0.8045 - val_loss: 0.9004\n",
            "Epoch 15/100\n",
            "1/1 [==============================] - 0s 211ms/step - loss: 0.8156 - val_loss: 0.8782\n",
            "Epoch 16/100\n",
            "1/1 [==============================] - 0s 207ms/step - loss: 0.7816 - val_loss: 0.8711\n",
            "Epoch 17/100\n",
            "1/1 [==============================] - 0s 200ms/step - loss: 0.7727 - val_loss: 0.8728\n",
            "Epoch 18/100\n",
            "1/1 [==============================] - 0s 216ms/step - loss: 0.7758 - val_loss: 0.8713\n",
            "Epoch 19/100\n",
            "1/1 [==============================] - 0s 210ms/step - loss: 0.7714 - val_loss: 0.8692\n",
            "Epoch 20/100\n",
            "1/1 [==============================] - 0s 210ms/step - loss: 0.7646 - val_loss: 0.8735\n",
            "Epoch 21/100\n",
            "1/1 [==============================] - 0s 208ms/step - loss: 0.7685 - val_loss: 0.8727\n",
            "Epoch 22/100\n",
            "1/1 [==============================] - 0s 207ms/step - loss: 0.7675 - val_loss: 0.8661\n",
            "Epoch 23/100\n",
            "1/1 [==============================] - 0s 231ms/step - loss: 0.7596 - val_loss: 0.8644\n",
            "Epoch 24/100\n",
            "1/1 [==============================] - 0s 212ms/step - loss: 0.7596 - val_loss: 0.8647\n",
            "Epoch 25/100\n",
            "1/1 [==============================] - 0s 213ms/step - loss: 0.7611 - val_loss: 0.8633\n",
            "Epoch 26/100\n",
            "1/1 [==============================] - 0s 211ms/step - loss: 0.7585 - val_loss: 0.8626\n",
            "Epoch 27/100\n",
            "1/1 [==============================] - 0s 205ms/step - loss: 0.7559 - val_loss: 0.8647\n",
            "Epoch 28/100\n",
            "1/1 [==============================] - 0s 220ms/step - loss: 0.7577 - val_loss: 0.8642\n",
            "Epoch 29/100\n",
            "1/1 [==============================] - 0s 210ms/step - loss: 0.7567 - val_loss: 0.8618\n",
            "Epoch 30/100\n",
            "1/1 [==============================] - 0s 202ms/step - loss: 0.7539 - val_loss: 0.8616\n",
            "Epoch 31/100\n",
            "1/1 [==============================] - 0s 205ms/step - loss: 0.7546 - val_loss: 0.8617\n",
            "Epoch 32/100\n",
            "1/1 [==============================] - 0s 211ms/step - loss: 0.7549 - val_loss: 0.8613\n",
            "Epoch 33/100\n",
            "1/1 [==============================] - 0s 209ms/step - loss: 0.7534 - val_loss: 0.8618\n",
            "Epoch 34/100\n",
            "1/1 [==============================] - 0s 213ms/step - loss: 0.7531 - val_loss: 0.8622\n",
            "Epoch 35/100\n",
            "1/1 [==============================] - 0s 204ms/step - loss: 0.7536 - val_loss: 0.8607\n",
            "Epoch 36/100\n",
            "1/1 [==============================] - 0s 212ms/step - loss: 0.7523 - val_loss: 0.8595\n",
            "Epoch 37/100\n",
            "1/1 [==============================] - 0s 216ms/step - loss: 0.7517 - val_loss: 0.8592\n",
            "Epoch 38/100\n",
            "1/1 [==============================] - 0s 215ms/step - loss: 0.7519 - val_loss: 0.8587\n",
            "Epoch 39/100\n",
            "1/1 [==============================] - 0s 203ms/step - loss: 0.7508 - val_loss: 0.8586\n",
            "Epoch 40/100\n",
            "1/1 [==============================] - 0s 227ms/step - loss: 0.7497 - val_loss: 0.8588\n",
            "Epoch 41/100\n",
            "1/1 [==============================] - 0s 209ms/step - loss: 0.7492 - val_loss: 0.8580\n",
            "Epoch 42/100\n",
            "1/1 [==============================] - 0s 219ms/step - loss: 0.7476 - val_loss: 0.8569\n",
            "Epoch 43/100\n",
            "1/1 [==============================] - 0s 224ms/step - loss: 0.7457 - val_loss: 0.8561\n",
            "Epoch 44/100\n",
            "1/1 [==============================] - 0s 215ms/step - loss: 0.7440 - val_loss: 0.8551\n",
            "Epoch 45/100\n",
            "1/1 [==============================] - 0s 205ms/step - loss: 0.7414 - val_loss: 0.8542\n",
            "Epoch 46/100\n",
            "1/1 [==============================] - 0s 204ms/step - loss: 0.7385 - val_loss: 0.8536\n",
            "Epoch 47/100\n",
            "1/1 [==============================] - 0s 224ms/step - loss: 0.7359 - val_loss: 0.8527\n",
            "Epoch 48/100\n",
            "1/1 [==============================] - 0s 214ms/step - loss: 0.7328 - val_loss: 0.8525\n",
            "Epoch 49/100\n",
            "1/1 [==============================] - 0s 216ms/step - loss: 0.7304 - val_loss: 0.8546\n",
            "Epoch 50/100\n",
            "1/1 [==============================] - 0s 210ms/step - loss: 0.7286 - val_loss: 0.8506\n",
            "Epoch 51/100\n",
            "1/1 [==============================] - 0s 214ms/step - loss: 0.7281 - val_loss: 0.8613\n",
            "Epoch 52/100\n",
            "1/1 [==============================] - 0s 216ms/step - loss: 0.7283 - val_loss: 0.8496\n",
            "Epoch 53/100\n",
            "1/1 [==============================] - 0s 218ms/step - loss: 0.7227 - val_loss: 0.8499\n",
            "Epoch 54/100\n",
            "1/1 [==============================] - 0s 211ms/step - loss: 0.7194 - val_loss: 0.8548\n",
            "Epoch 55/100\n",
            "1/1 [==============================] - 0s 207ms/step - loss: 0.7187 - val_loss: 0.8518\n",
            "Epoch 56/100\n",
            "1/1 [==============================] - 0s 222ms/step - loss: 0.7158 - val_loss: 0.8492\n",
            "Epoch 57/100\n",
            "1/1 [==============================] - 0s 217ms/step - loss: 0.7155 - val_loss: 0.8498\n",
            "Epoch 58/100\n",
            "1/1 [==============================] - 0s 214ms/step - loss: 0.7130 - val_loss: 0.8511\n",
            "Epoch 59/100\n",
            "1/1 [==============================] - 0s 207ms/step - loss: 0.7123 - val_loss: 0.8492\n",
            "Epoch 60/100\n",
            "1/1 [==============================] - 0s 220ms/step - loss: 0.7095 - val_loss: 0.8485\n",
            "Epoch 61/100\n",
            "1/1 [==============================] - 0s 222ms/step - loss: 0.7083 - val_loss: 0.8508\n",
            "Epoch 62/100\n",
            "1/1 [==============================] - 0s 205ms/step - loss: 0.7066 - val_loss: 0.8503\n",
            "Epoch 63/100\n",
            "1/1 [==============================] - 0s 212ms/step - loss: 0.7045 - val_loss: 0.8511\n",
            "Epoch 64/100\n",
            "1/1 [==============================] - 0s 209ms/step - loss: 0.7032 - val_loss: 0.8538\n",
            "Epoch 65/100\n",
            "1/1 [==============================] - 0s 226ms/step - loss: 0.7014 - val_loss: 0.8555\n",
            "Epoch 66/100\n",
            "1/1 [==============================] - 0s 204ms/step - loss: 0.7001 - val_loss: 0.8556\n",
            "Epoch 67/100\n",
            "1/1 [==============================] - 0s 210ms/step - loss: 0.6982 - val_loss: 0.8575\n",
            "Epoch 68/100\n",
            "1/1 [==============================] - 0s 205ms/step - loss: 0.6957 - val_loss: 0.8596\n",
            "Epoch 69/100\n",
            "1/1 [==============================] - 0s 207ms/step - loss: 0.6934 - val_loss: 0.8572\n",
            "Epoch 70/100\n",
            "1/1 [==============================] - 0s 218ms/step - loss: 0.6906 - val_loss: 0.8578\n",
            "Epoch 71/100\n",
            "1/1 [==============================] - 0s 213ms/step - loss: 0.6879 - val_loss: 0.8562\n",
            "Epoch 72/100\n",
            "1/1 [==============================] - 0s 210ms/step - loss: 0.6850 - val_loss: 0.8573\n",
            "Epoch 73/100\n",
            "1/1 [==============================] - 0s 210ms/step - loss: 0.6822 - val_loss: 0.8554\n",
            "Epoch 74/100\n",
            "1/1 [==============================] - 0s 208ms/step - loss: 0.6796 - val_loss: 0.8558\n",
            "Epoch 75/100\n",
            "1/1 [==============================] - 0s 226ms/step - loss: 0.6772 - val_loss: 0.8566\n",
            "Epoch 76/100\n",
            "1/1 [==============================] - 0s 211ms/step - loss: 0.6751 - val_loss: 0.8515\n",
            "Epoch 77/100\n",
            "1/1 [==============================] - 0s 209ms/step - loss: 0.6730 - val_loss: 0.8540\n",
            "Epoch 78/100\n",
            "1/1 [==============================] - 0s 210ms/step - loss: 0.6717 - val_loss: 0.8415\n",
            "Epoch 79/100\n",
            "1/1 [==============================] - 0s 212ms/step - loss: 0.6747 - val_loss: 0.8578\n",
            "Epoch 80/100\n",
            "1/1 [==============================] - 0s 218ms/step - loss: 0.6790 - val_loss: 0.8395\n",
            "Epoch 81/100\n",
            "1/1 [==============================] - 0s 214ms/step - loss: 0.6661 - val_loss: 0.8370\n",
            "Epoch 82/100\n",
            "1/1 [==============================] - 0s 207ms/step - loss: 0.6684 - val_loss: 0.8486\n",
            "Epoch 83/100\n",
            "1/1 [==============================] - 0s 211ms/step - loss: 0.6579 - val_loss: 0.8528\n",
            "Epoch 84/100\n",
            "1/1 [==============================] - 0s 214ms/step - loss: 0.6610 - val_loss: 0.8358\n",
            "Epoch 85/100\n",
            "1/1 [==============================] - 0s 218ms/step - loss: 0.6503 - val_loss: 0.8320\n",
            "Epoch 86/100\n",
            "1/1 [==============================] - 0s 219ms/step - loss: 0.6544 - val_loss: 0.8333\n",
            "Epoch 87/100\n",
            "1/1 [==============================] - 0s 212ms/step - loss: 0.6476 - val_loss: 0.8397\n",
            "Epoch 88/100\n",
            "1/1 [==============================] - 0s 227ms/step - loss: 0.6447 - val_loss: 0.8506\n",
            "Epoch 89/100\n",
            "1/1 [==============================] - 0s 218ms/step - loss: 0.6456 - val_loss: 0.8417\n",
            "Epoch 90/100\n",
            "1/1 [==============================] - 0s 206ms/step - loss: 0.6410 - val_loss: 0.8336\n",
            "Epoch 91/100\n",
            "1/1 [==============================] - 0s 209ms/step - loss: 0.6398 - val_loss: 0.8313\n",
            "Epoch 92/100\n",
            "1/1 [==============================] - 0s 210ms/step - loss: 0.6384 - val_loss: 0.8326\n",
            "Epoch 93/100\n",
            "1/1 [==============================] - 0s 225ms/step - loss: 0.6358 - val_loss: 0.8381\n",
            "Epoch 94/100\n",
            "1/1 [==============================] - 0s 222ms/step - loss: 0.6343 - val_loss: 0.8415\n",
            "Epoch 95/100\n",
            "1/1 [==============================] - 0s 214ms/step - loss: 0.6319 - val_loss: 0.8391\n",
            "Epoch 96/100\n",
            "1/1 [==============================] - 0s 206ms/step - loss: 0.6292 - val_loss: 0.8358\n",
            "Epoch 97/100\n",
            "1/1 [==============================] - 0s 215ms/step - loss: 0.6276 - val_loss: 0.8347\n",
            "Epoch 98/100\n",
            "1/1 [==============================] - 0s 212ms/step - loss: 0.6251 - val_loss: 0.8405\n",
            "Epoch 99/100\n",
            "1/1 [==============================] - 0s 218ms/step - loss: 0.6225 - val_loss: 0.8443\n",
            "Epoch 100/100\n",
            "1/1 [==============================] - 0s 206ms/step - loss: 0.6205 - val_loss: 0.8410\n"
          ]
        }
      ]
    },
    {
      "cell_type": "code",
      "source": [
        "model_loss=pd.DataFrame(AE.history)\n",
        "model_loss.head()"
      ],
      "metadata": {
        "colab": {
          "base_uri": "https://localhost:8080/",
          "height": 206
        },
        "id": "vUGZPjbqEH_s",
        "outputId": "56377326-23b1-4e85-8b06-2bff576597b3"
      },
      "execution_count": 189,
      "outputs": [
        {
          "output_type": "execute_result",
          "data": {
            "text/plain": [
              "       loss  val_loss\n",
              "0  1.000710  0.976830\n",
              "1  0.965241  1.564531\n",
              "2  1.792062  0.934109\n",
              "3  0.899426  0.965943\n",
              "4  0.947251  0.948825"
            ],
            "text/html": [
              "\n",
              "  <div id=\"df-ae9c9940-2e90-4894-bffc-1f788ea990d6\">\n",
              "    <div class=\"colab-df-container\">\n",
              "      <div>\n",
              "<style scoped>\n",
              "    .dataframe tbody tr th:only-of-type {\n",
              "        vertical-align: middle;\n",
              "    }\n",
              "\n",
              "    .dataframe tbody tr th {\n",
              "        vertical-align: top;\n",
              "    }\n",
              "\n",
              "    .dataframe thead th {\n",
              "        text-align: right;\n",
              "    }\n",
              "</style>\n",
              "<table border=\"1\" class=\"dataframe\">\n",
              "  <thead>\n",
              "    <tr style=\"text-align: right;\">\n",
              "      <th></th>\n",
              "      <th>loss</th>\n",
              "      <th>val_loss</th>\n",
              "    </tr>\n",
              "  </thead>\n",
              "  <tbody>\n",
              "    <tr>\n",
              "      <th>0</th>\n",
              "      <td>1.000710</td>\n",
              "      <td>0.976830</td>\n",
              "    </tr>\n",
              "    <tr>\n",
              "      <th>1</th>\n",
              "      <td>0.965241</td>\n",
              "      <td>1.564531</td>\n",
              "    </tr>\n",
              "    <tr>\n",
              "      <th>2</th>\n",
              "      <td>1.792062</td>\n",
              "      <td>0.934109</td>\n",
              "    </tr>\n",
              "    <tr>\n",
              "      <th>3</th>\n",
              "      <td>0.899426</td>\n",
              "      <td>0.965943</td>\n",
              "    </tr>\n",
              "    <tr>\n",
              "      <th>4</th>\n",
              "      <td>0.947251</td>\n",
              "      <td>0.948825</td>\n",
              "    </tr>\n",
              "  </tbody>\n",
              "</table>\n",
              "</div>\n",
              "      <button class=\"colab-df-convert\" onclick=\"convertToInteractive('df-ae9c9940-2e90-4894-bffc-1f788ea990d6')\"\n",
              "              title=\"Convert this dataframe to an interactive table.\"\n",
              "              style=\"display:none;\">\n",
              "        \n",
              "  <svg xmlns=\"http://www.w3.org/2000/svg\" height=\"24px\"viewBox=\"0 0 24 24\"\n",
              "       width=\"24px\">\n",
              "    <path d=\"M0 0h24v24H0V0z\" fill=\"none\"/>\n",
              "    <path d=\"M18.56 5.44l.94 2.06.94-2.06 2.06-.94-2.06-.94-.94-2.06-.94 2.06-2.06.94zm-11 1L8.5 8.5l.94-2.06 2.06-.94-2.06-.94L8.5 2.5l-.94 2.06-2.06.94zm10 10l.94 2.06.94-2.06 2.06-.94-2.06-.94-.94-2.06-.94 2.06-2.06.94z\"/><path d=\"M17.41 7.96l-1.37-1.37c-.4-.4-.92-.59-1.43-.59-.52 0-1.04.2-1.43.59L10.3 9.45l-7.72 7.72c-.78.78-.78 2.05 0 2.83L4 21.41c.39.39.9.59 1.41.59.51 0 1.02-.2 1.41-.59l7.78-7.78 2.81-2.81c.8-.78.8-2.07 0-2.86zM5.41 20L4 18.59l7.72-7.72 1.47 1.35L5.41 20z\"/>\n",
              "  </svg>\n",
              "      </button>\n",
              "      \n",
              "  <style>\n",
              "    .colab-df-container {\n",
              "      display:flex;\n",
              "      flex-wrap:wrap;\n",
              "      gap: 12px;\n",
              "    }\n",
              "\n",
              "    .colab-df-convert {\n",
              "      background-color: #E8F0FE;\n",
              "      border: none;\n",
              "      border-radius: 50%;\n",
              "      cursor: pointer;\n",
              "      display: none;\n",
              "      fill: #1967D2;\n",
              "      height: 32px;\n",
              "      padding: 0 0 0 0;\n",
              "      width: 32px;\n",
              "    }\n",
              "\n",
              "    .colab-df-convert:hover {\n",
              "      background-color: #E2EBFA;\n",
              "      box-shadow: 0px 1px 2px rgba(60, 64, 67, 0.3), 0px 1px 3px 1px rgba(60, 64, 67, 0.15);\n",
              "      fill: #174EA6;\n",
              "    }\n",
              "\n",
              "    [theme=dark] .colab-df-convert {\n",
              "      background-color: #3B4455;\n",
              "      fill: #D2E3FC;\n",
              "    }\n",
              "\n",
              "    [theme=dark] .colab-df-convert:hover {\n",
              "      background-color: #434B5C;\n",
              "      box-shadow: 0px 1px 3px 1px rgba(0, 0, 0, 0.15);\n",
              "      filter: drop-shadow(0px 1px 2px rgba(0, 0, 0, 0.3));\n",
              "      fill: #FFFFFF;\n",
              "    }\n",
              "  </style>\n",
              "\n",
              "      <script>\n",
              "        const buttonEl =\n",
              "          document.querySelector('#df-ae9c9940-2e90-4894-bffc-1f788ea990d6 button.colab-df-convert');\n",
              "        buttonEl.style.display =\n",
              "          google.colab.kernel.accessAllowed ? 'block' : 'none';\n",
              "\n",
              "        async function convertToInteractive(key) {\n",
              "          const element = document.querySelector('#df-ae9c9940-2e90-4894-bffc-1f788ea990d6');\n",
              "          const dataTable =\n",
              "            await google.colab.kernel.invokeFunction('convertToInteractive',\n",
              "                                                     [key], {});\n",
              "          if (!dataTable) return;\n",
              "\n",
              "          const docLinkHtml = 'Like what you see? Visit the ' +\n",
              "            '<a target=\"_blank\" href=https://colab.research.google.com/notebooks/data_table.ipynb>data table notebook</a>'\n",
              "            + ' to learn more about interactive tables.';\n",
              "          element.innerHTML = '';\n",
              "          dataTable['output_type'] = 'display_data';\n",
              "          await google.colab.output.renderOutput(dataTable, element);\n",
              "          const docLink = document.createElement('div');\n",
              "          docLink.innerHTML = docLinkHtml;\n",
              "          element.appendChild(docLink);\n",
              "        }\n",
              "      </script>\n",
              "    </div>\n",
              "  </div>\n",
              "  "
            ]
          },
          "metadata": {},
          "execution_count": 189
        }
      ]
    },
    {
      "cell_type": "code",
      "source": [
        "ax = model_loss.plot()\n",
        "ax.set_xlabel('Epochs')\n",
        "ax.set_ylabel('VAE Loss')"
      ],
      "metadata": {
        "colab": {
          "base_uri": "https://localhost:8080/",
          "height": 296
        },
        "id": "yMRLJnOJERPv",
        "outputId": "e0ddb6b5-63a6-4651-e381-ffaff6e9361b"
      },
      "execution_count": 190,
      "outputs": [
        {
          "output_type": "execute_result",
          "data": {
            "text/plain": [
              "Text(0, 0.5, 'VAE Loss')"
            ]
          },
          "metadata": {},
          "execution_count": 190
        },
        {
          "output_type": "display_data",
          "data": {
            "text/plain": [
              "<Figure size 432x288 with 1 Axes>"
            ],
            "image/png": "[encoded data removed]"
          },
          "metadata": {
            "needs_background": "light"
          }
        }
      ]
    },
    {
      "cell_type": "code",
      "source": [
        "from tensorflow.keras.layers import Dropout"
      ],
      "metadata": {
        "id": "llQIcN7fqljV"
      },
      "execution_count": 199,
      "outputs": []
    },
    {
      "cell_type": "code",
      "source": [
        "encoder=Sequential()\n",
        "encoder.add(Dense(units=2000,activation='relu',input_shape=[4570]))\n",
        "\n",
        "encoder.add(Dense(units=1000,activation='relu',input_shape=[2000]))\n",
        "\n",
        "encoder.add(Dense(units=500,activation='relu',input_shape=[1000]))\n",
        "\n",
        "\n",
        "encoder.add(Dense(units=250,activation='relu',input_shape=[500]))\n",
        "\n",
        "\n",
        "encoder.add(Dense(units=100,activation='relu',input_shape=[250]))"
      ],
      "metadata": {
        "id": "elejpFZUqjw0"
      },
      "execution_count": null,
      "outputs": []
    },
    {
      "cell_type": "markdown",
      "source": [
        "**hyperparametrisation**"
      ],
      "metadata": {
        "id": "By3M2PiZGme7"
      }
    },
    {
      "cell_type": "code",
      "source": [
        "class model():\n",
        "    \"\"\"\n",
        "    Facilitates the training and output of tybalt model trained on TCGA RNAseq gene expression data\n",
        "    \"\"\"\n",
        "    def __init__(self, original_dim, hidden_dim, latent_dim,\n",
        "                 batch_size, epochs, learning_rate):\n",
        "        self.original_dim = original_dim\n",
        "        self.hidden_dim = hidden_dim\n",
        "        self.latent_dim = latent_dim\n",
        "        self.batch_size = batch_size\n",
        "        self.epochs = epochs\n",
        "        self.learning_rate = learning_rate\n",
        "\n",
        "    def build_encoder_layer(self):\n",
        "      self.encoder_model = Sequential()\n",
        "      self.encoder_model.add(Dense(self.hidden_dim,input_dim=self.original_dim,activation='relu')) \n",
        "      self.encoder_model.add(Dense(self.latent_dim ,input_dim=self.hidden_dim,activation='relu'))\n",
        "\n",
        "    def build_decoder_layer(self):\n",
        "        # The decoding layer is much simpler with a single layer glorot uniform initialized and sigmoid activation\n",
        "        self.decoder_model = Sequential()\n",
        "        self.decoder_model.add(Dense(self.hidden_dim, activation='relu', input_dim=self.latent_dim))\n",
        "        self.decoder_model.add(Dense(self.original_dim, activation='sigmoid'))  \n",
        "\n",
        "    def compile_ae(self):    \n",
        "      self.ae = Sequential([self.encoder_model,self.decoder_model])\n",
        "      self.ae.compile(optimizer=Adam(learning_rate = 0.001), loss='mse')\n",
        "    def visualize_architecture(self, output_file):\n",
        "        # Visualize the connections of the custom VAE model\n",
        "        plot_model(self.ae, to_file=output_file)  \n",
        "    def train_ae(self):\n",
        "      self.AE=self.ae.fit(np.array(cp1_train), np.array(cp1_train),\n",
        "                epochs=self.epochs,\n",
        "                batch_size=self.batch_size,\n",
        "                shuffle=True,\n",
        "                validation_data=(np.array(cp1_test), np.array(cp1_test)),\n",
        "                callbacks=[early_stop])\n",
        "      \n",
        "    def visualize_training(self):\n",
        "        # Visualize training performance\n",
        "        history_df = pd.DataFrame(self.AE.history)\n",
        "        ax = history_df.plot()\n",
        "        ax.set_xlabel('Epochs')\n",
        "        ax.set_ylabel('VAE Loss')\n",
        "             \n",
        "\n"
      ],
      "metadata": {
        "id": "0XFOSlM9Gfrt"
      },
      "execution_count": 191,
      "outputs": []
    },
    {
      "cell_type": "code",
      "source": [
        "original_dim = X_norm.shape[1]\n",
        "latent_dim = 100"
      ],
      "metadata": {
        "id": "VvKe4VckYPVg"
      },
      "execution_count": 192,
      "outputs": []
    },
    {
      "cell_type": "code",
      "source": [
        "# Model A (100 hidden layer size)\n",
        "model_a_latent_dim = 100\n",
        "model_a_batch_size = 100\n",
        "model_a_epochs = 200\n",
        "model_a_learning_rate = 0.001"
      ],
      "metadata": {
        "id": "SMO17Uj1YoxX"
      },
      "execution_count": 194,
      "outputs": []
    },
    {
      "cell_type": "code",
      "source": [
        "model_a = model(original_dim=original_dim,\n",
        "                 hidden_dim=model_a_latent_dim,\n",
        "                 latent_dim=latent_dim,\n",
        "                 batch_size=model_a_batch_size,\n",
        "                 epochs=model_a_epochs,\n",
        "                 learning_rate=model_a_learning_rate)"
      ],
      "metadata": {
        "id": "dexNzQ40Y-O2"
      },
      "execution_count": 195,
      "outputs": []
    },
    {
      "cell_type": "code",
      "source": [
        "model_a.build_encoder_layer()\n",
        "model_a.build_decoder_layer()\n",
        "model_a.compile_ae()"
      ],
      "metadata": {
        "id": "hyvVmrG4ZKeq"
      },
      "execution_count": 196,
      "outputs": []
    },
    {
      "cell_type": "code",
      "source": [
        "model_a.train_ae()"
      ],
      "metadata": {
        "colab": {
          "base_uri": "https://localhost:8080/"
        },
        "id": "9UpT4MxxZvgQ",
        "outputId": "21bdf650-dd23-4867-f5a7-db9fb8a66897"
      },
      "execution_count": 197,
      "outputs": [
        {
          "output_type": "stream",
          "name": "stdout",
          "text": [
            "Epoch 1/200\n",
            "1/1 [==============================] - 1s 567ms/step - loss: 1.2498 - val_loss: 1.2309\n",
            "Epoch 2/200\n",
            "1/1 [==============================] - 0s 42ms/step - loss: 1.2246 - val_loss: 1.1892\n",
            "Epoch 3/200\n",
            "1/1 [==============================] - 0s 36ms/step - loss: 1.1654 - val_loss: 1.1242\n",
            "Epoch 4/200\n",
            "1/1 [==============================] - 0s 41ms/step - loss: 1.0760 - val_loss: 1.0480\n",
            "Epoch 5/200\n",
            "1/1 [==============================] - 0s 41ms/step - loss: 0.9756 - val_loss: 0.9763\n",
            "Epoch 6/200\n",
            "1/1 [==============================] - 0s 39ms/step - loss: 0.8861 - val_loss: 0.9216\n",
            "Epoch 7/200\n",
            "1/1 [==============================] - 0s 39ms/step - loss: 0.8212 - val_loss: 0.8866\n",
            "Epoch 8/200\n",
            "1/1 [==============================] - 0s 42ms/step - loss: 0.7813 - val_loss: 0.8668\n",
            "Epoch 9/200\n",
            "1/1 [==============================] - 0s 44ms/step - loss: 0.7597 - val_loss: 0.8572\n",
            "Epoch 10/200\n",
            "1/1 [==============================] - 0s 58ms/step - loss: 0.7494 - val_loss: 0.8534\n",
            "Epoch 11/200\n",
            "1/1 [==============================] - 0s 40ms/step - loss: 0.7451 - val_loss: 0.8526\n",
            "Epoch 12/200\n",
            "1/1 [==============================] - 0s 43ms/step - loss: 0.7437 - val_loss: 0.8519\n",
            "Epoch 13/200\n",
            "1/1 [==============================] - 0s 49ms/step - loss: 0.7424 - val_loss: 0.8510\n",
            "Epoch 14/200\n",
            "1/1 [==============================] - 0s 41ms/step - loss: 0.7411 - val_loss: 0.8498\n",
            "Epoch 15/200\n",
            "1/1 [==============================] - 0s 40ms/step - loss: 0.7402 - val_loss: 0.8489\n",
            "Epoch 16/200\n",
            "1/1 [==============================] - 0s 39ms/step - loss: 0.7390 - val_loss: 0.8493\n",
            "Epoch 17/200\n",
            "1/1 [==============================] - 0s 39ms/step - loss: 0.7379 - val_loss: 0.8496\n",
            "Epoch 18/200\n",
            "1/1 [==============================] - 0s 37ms/step - loss: 0.7363 - val_loss: 0.8497\n",
            "Epoch 19/200\n",
            "1/1 [==============================] - 0s 39ms/step - loss: 0.7346 - val_loss: 0.8489\n",
            "Epoch 20/200\n",
            "1/1 [==============================] - 0s 41ms/step - loss: 0.7331 - val_loss: 0.8471\n",
            "Epoch 21/200\n",
            "1/1 [==============================] - 0s 38ms/step - loss: 0.7315 - val_loss: 0.8457\n",
            "Epoch 22/200\n",
            "1/1 [==============================] - 0s 37ms/step - loss: 0.7299 - val_loss: 0.8446\n",
            "Epoch 23/200\n",
            "1/1 [==============================] - 0s 37ms/step - loss: 0.7283 - val_loss: 0.8443\n",
            "Epoch 24/200\n",
            "1/1 [==============================] - 0s 42ms/step - loss: 0.7266 - val_loss: 0.8448\n",
            "Epoch 25/200\n",
            "1/1 [==============================] - 0s 41ms/step - loss: 0.7252 - val_loss: 0.8449\n",
            "Epoch 26/200\n",
            "1/1 [==============================] - 0s 39ms/step - loss: 0.7235 - val_loss: 0.8440\n",
            "Epoch 27/200\n",
            "1/1 [==============================] - 0s 39ms/step - loss: 0.7217 - val_loss: 0.8432\n",
            "Epoch 28/200\n",
            "1/1 [==============================] - 0s 37ms/step - loss: 0.7202 - val_loss: 0.8420\n",
            "Epoch 29/200\n",
            "1/1 [==============================] - 0s 36ms/step - loss: 0.7188 - val_loss: 0.8409\n",
            "Epoch 30/200\n",
            "1/1 [==============================] - 0s 39ms/step - loss: 0.7172 - val_loss: 0.8406\n",
            "Epoch 31/200\n",
            "1/1 [==============================] - 0s 48ms/step - loss: 0.7159 - val_loss: 0.8408\n",
            "Epoch 32/200\n",
            "1/1 [==============================] - 0s 42ms/step - loss: 0.7146 - val_loss: 0.8411\n",
            "Epoch 33/200\n",
            "1/1 [==============================] - 0s 43ms/step - loss: 0.7134 - val_loss: 0.8410\n",
            "Epoch 34/200\n",
            "1/1 [==============================] - 0s 47ms/step - loss: 0.7123 - val_loss: 0.8406\n",
            "Epoch 35/200\n",
            "1/1 [==============================] - 0s 40ms/step - loss: 0.7113 - val_loss: 0.8400\n",
            "Epoch 36/200\n",
            "1/1 [==============================] - 0s 45ms/step - loss: 0.7104 - val_loss: 0.8393\n",
            "Epoch 37/200\n",
            "1/1 [==============================] - 0s 41ms/step - loss: 0.7094 - val_loss: 0.8387\n",
            "Epoch 38/200\n",
            "1/1 [==============================] - 0s 42ms/step - loss: 0.7085 - val_loss: 0.8386\n",
            "Epoch 39/200\n",
            "1/1 [==============================] - 0s 44ms/step - loss: 0.7077 - val_loss: 0.8384\n",
            "Epoch 40/200\n",
            "1/1 [==============================] - 0s 39ms/step - loss: 0.7070 - val_loss: 0.8384\n",
            "Epoch 41/200\n",
            "1/1 [==============================] - 0s 38ms/step - loss: 0.7062 - val_loss: 0.8386\n",
            "Epoch 42/200\n",
            "1/1 [==============================] - 0s 40ms/step - loss: 0.7054 - val_loss: 0.8386\n",
            "Epoch 43/200\n",
            "1/1 [==============================] - 0s 40ms/step - loss: 0.7047 - val_loss: 0.8386\n",
            "Epoch 44/200\n",
            "1/1 [==============================] - 0s 39ms/step - loss: 0.7041 - val_loss: 0.8384\n",
            "Epoch 45/200\n",
            "1/1 [==============================] - 0s 40ms/step - loss: 0.7034 - val_loss: 0.8381\n",
            "Epoch 46/200\n",
            "1/1 [==============================] - 0s 38ms/step - loss: 0.7028 - val_loss: 0.8378\n",
            "Epoch 47/200\n",
            "1/1 [==============================] - 0s 42ms/step - loss: 0.7021 - val_loss: 0.8377\n",
            "Epoch 48/200\n",
            "1/1 [==============================] - 0s 43ms/step - loss: 0.7015 - val_loss: 0.8375\n",
            "Epoch 49/200\n",
            "1/1 [==============================] - 0s 35ms/step - loss: 0.7009 - val_loss: 0.8374\n",
            "Epoch 50/200\n",
            "1/1 [==============================] - 0s 39ms/step - loss: 0.7003 - val_loss: 0.8374\n",
            "Epoch 51/200\n",
            "1/1 [==============================] - 0s 42ms/step - loss: 0.6996 - val_loss: 0.8375\n",
            "Epoch 52/200\n",
            "1/1 [==============================] - 0s 42ms/step - loss: 0.6991 - val_loss: 0.8375\n",
            "Epoch 53/200\n",
            "1/1 [==============================] - 0s 45ms/step - loss: 0.6985 - val_loss: 0.8374\n",
            "Epoch 54/200\n",
            "1/1 [==============================] - 0s 46ms/step - loss: 0.6979 - val_loss: 0.8371\n",
            "Epoch 55/200\n",
            "1/1 [==============================] - 0s 41ms/step - loss: 0.6973 - val_loss: 0.8368\n",
            "Epoch 56/200\n",
            "1/1 [==============================] - 0s 60ms/step - loss: 0.6967 - val_loss: 0.8368\n",
            "Epoch 57/200\n",
            "1/1 [==============================] - 0s 44ms/step - loss: 0.6960 - val_loss: 0.8368\n",
            "Epoch 58/200\n",
            "1/1 [==============================] - 0s 38ms/step - loss: 0.6954 - val_loss: 0.8367\n",
            "Epoch 59/200\n",
            "1/1 [==============================] - 0s 43ms/step - loss: 0.6949 - val_loss: 0.8368\n",
            "Epoch 60/200\n",
            "1/1 [==============================] - 0s 41ms/step - loss: 0.6944 - val_loss: 0.8367\n",
            "Epoch 61/200\n",
            "1/1 [==============================] - 0s 37ms/step - loss: 0.6938 - val_loss: 0.8366\n",
            "Epoch 62/200\n",
            "1/1 [==============================] - 0s 40ms/step - loss: 0.6932 - val_loss: 0.8365\n",
            "Epoch 63/200\n",
            "1/1 [==============================] - 0s 38ms/step - loss: 0.6927 - val_loss: 0.8367\n",
            "Epoch 64/200\n",
            "1/1 [==============================] - 0s 42ms/step - loss: 0.6922 - val_loss: 0.8366\n",
            "Epoch 65/200\n",
            "1/1 [==============================] - 0s 37ms/step - loss: 0.6916 - val_loss: 0.8368\n",
            "Epoch 66/200\n",
            "1/1 [==============================] - 0s 48ms/step - loss: 0.6910 - val_loss: 0.8369\n",
            "Epoch 67/200\n",
            "1/1 [==============================] - 0s 41ms/step - loss: 0.6905 - val_loss: 0.8369\n",
            "Epoch 68/200\n",
            "1/1 [==============================] - 0s 39ms/step - loss: 0.6899 - val_loss: 0.8370\n",
            "Epoch 69/200\n",
            "1/1 [==============================] - 0s 40ms/step - loss: 0.6895 - val_loss: 0.8368\n",
            "Epoch 70/200\n",
            "1/1 [==============================] - 0s 39ms/step - loss: 0.6889 - val_loss: 0.8366\n",
            "Epoch 71/200\n",
            "1/1 [==============================] - 0s 38ms/step - loss: 0.6884 - val_loss: 0.8365\n",
            "Epoch 72/200\n",
            "1/1 [==============================] - 0s 38ms/step - loss: 0.6879 - val_loss: 0.8365\n",
            "Epoch 73/200\n",
            "1/1 [==============================] - 0s 42ms/step - loss: 0.6874 - val_loss: 0.8365\n",
            "Epoch 74/200\n",
            "1/1 [==============================] - 0s 37ms/step - loss: 0.6869 - val_loss: 0.8366\n",
            "Epoch 75/200\n",
            "1/1 [==============================] - 0s 42ms/step - loss: 0.6864 - val_loss: 0.8368\n",
            "Epoch 76/200\n",
            "1/1 [==============================] - 0s 40ms/step - loss: 0.6859 - val_loss: 0.8367\n",
            "Epoch 77/200\n",
            "1/1 [==============================] - 0s 41ms/step - loss: 0.6854 - val_loss: 0.8368\n",
            "Epoch 78/200\n",
            "1/1 [==============================] - 0s 36ms/step - loss: 0.6850 - val_loss: 0.8369\n",
            "Epoch 79/200\n",
            "1/1 [==============================] - 0s 37ms/step - loss: 0.6845 - val_loss: 0.8370\n",
            "Epoch 80/200\n",
            "1/1 [==============================] - 0s 37ms/step - loss: 0.6841 - val_loss: 0.8372\n",
            "Epoch 81/200\n",
            "1/1 [==============================] - 0s 42ms/step - loss: 0.6836 - val_loss: 0.8372\n",
            "Epoch 82/200\n",
            "1/1 [==============================] - 0s 50ms/step - loss: 0.6831 - val_loss: 0.8372\n",
            "Epoch 83/200\n",
            "1/1 [==============================] - 0s 41ms/step - loss: 0.6827 - val_loss: 0.8372\n",
            "Epoch 84/200\n",
            "1/1 [==============================] - 0s 36ms/step - loss: 0.6823 - val_loss: 0.8372\n",
            "Epoch 85/200\n",
            "1/1 [==============================] - 0s 41ms/step - loss: 0.6819 - val_loss: 0.8373\n",
            "Epoch 86/200\n",
            "1/1 [==============================] - 0s 40ms/step - loss: 0.6815 - val_loss: 0.8374\n",
            "Epoch 87/200\n",
            "1/1 [==============================] - 0s 41ms/step - loss: 0.6811 - val_loss: 0.8373\n",
            "Epoch 88/200\n",
            "1/1 [==============================] - 0s 44ms/step - loss: 0.6807 - val_loss: 0.8371\n",
            "Epoch 89/200\n",
            "1/1 [==============================] - 0s 37ms/step - loss: 0.6803 - val_loss: 0.8371\n",
            "Epoch 90/200\n",
            "1/1 [==============================] - 0s 40ms/step - loss: 0.6800 - val_loss: 0.8374\n",
            "Epoch 91/200\n",
            "1/1 [==============================] - 0s 43ms/step - loss: 0.6796 - val_loss: 0.8374\n",
            "Epoch 92/200\n",
            "1/1 [==============================] - 0s 43ms/step - loss: 0.6792 - val_loss: 0.8375\n",
            "Epoch 93/200\n",
            "1/1 [==============================] - 0s 40ms/step - loss: 0.6789 - val_loss: 0.8376\n",
            "Epoch 94/200\n",
            "1/1 [==============================] - 0s 42ms/step - loss: 0.6785 - val_loss: 0.8376\n",
            "Epoch 95/200\n",
            "1/1 [==============================] - 0s 41ms/step - loss: 0.6782 - val_loss: 0.8377\n",
            "Epoch 96/200\n",
            "1/1 [==============================] - 0s 41ms/step - loss: 0.6778 - val_loss: 0.8375\n",
            "Epoch 97/200\n",
            "1/1 [==============================] - 0s 39ms/step - loss: 0.6776 - val_loss: 0.8375\n",
            "Epoch 98/200\n",
            "1/1 [==============================] - 0s 45ms/step - loss: 0.6773 - val_loss: 0.8375\n",
            "Epoch 98: early stopping\n"
          ]
        }
      ]
    },
    {
      "cell_type": "code",
      "source": [
        "model_a.visualize_training()"
      ],
      "metadata": {
        "colab": {
          "base_uri": "https://localhost:8080/",
          "height": 279
        },
        "id": "i6SPyAnUaJHO",
        "outputId": "7388ada1-00b5-4895-f5e4-68f77f0311df"
      },
      "execution_count": 198,
      "outputs": [
        {
          "output_type": "display_data",
          "data": {
            "text/plain": [
              "<Figure size 432x288 with 1 Axes>"
            ],
            "image/png": "[encoded data removed]"
          },
          "metadata": {
            "needs_background": "light"
          }
        }
      ]
    },
    {
      "cell_type": "code",
      "source": [
        "model_b_latent_dim = 300\n",
        "model_b_batch_size = 50\n",
        "model_b_epochs = 300\n",
        "model_b_learning_rate = 0.0005\n",
        "model_b_kappa = 0.01"
      ],
      "metadata": {
        "id": "_QEpy5lAa9dL"
      },
      "execution_count": 171,
      "outputs": []
    },
    {
      "cell_type": "code",
      "source": [
        "model_b = model(original_dim=original_dim,\n",
        "                 hidden_dim=model_b_latent_dim,\n",
        "                 latent_dim=latent_dim,\n",
        "                 batch_size=model_b_batch_size,\n",
        "                 epochs=model_b_epochs,\n",
        "                 learning_rate=model_b_learning_rate)"
      ],
      "metadata": {
        "id": "m_XqJd_hbOVT"
      },
      "execution_count": 172,
      "outputs": []
    },
    {
      "cell_type": "code",
      "source": [
        "model_b.build_encoder_layer()\n",
        "model_b.build_decoder_layer()\n",
        "model_b.compile_ae()"
      ],
      "metadata": {
        "id": "qdsle5tMbhmq"
      },
      "execution_count": 173,
      "outputs": []
    },
    {
      "cell_type": "code",
      "source": [
        "model_b.train_ae()"
      ],
      "metadata": {
        "colab": {
          "base_uri": "https://localhost:8080/"
        },
        "id": "N7VjMOMMbpSV",
        "outputId": "ef39b1b8-aa8d-45f0-c57a-a64cbd1636b9"
      },
      "execution_count": 174,
      "outputs": [
        {
          "output_type": "stream",
          "name": "stdout",
          "text": [
            "Epoch 1/300\n",
            "1/1 [==============================] - 1s 875ms/step - loss: 1.2500 - val_loss: 1.2221\n",
            "Epoch 2/300\n",
            "1/1 [==============================] - 0s 190ms/step - loss: 1.2056 - val_loss: 1.1371\n",
            "Epoch 3/300\n",
            "1/1 [==============================] - 0s 140ms/step - loss: 1.0817 - val_loss: 1.0178\n",
            "Epoch 4/300\n",
            "1/1 [==============================] - 0s 125ms/step - loss: 0.9270 - val_loss: 0.9221\n",
            "Epoch 5/300\n",
            "1/1 [==============================] - 0s 95ms/step - loss: 0.8157 - val_loss: 0.8738\n",
            "Epoch 6/300\n",
            "1/1 [==============================] - 0s 77ms/step - loss: 0.7645 - val_loss: 0.8572\n",
            "Epoch 7/300\n",
            "1/1 [==============================] - 0s 54ms/step - loss: 0.7490 - val_loss: 0.8544\n",
            "Epoch 8/300\n",
            "1/1 [==============================] - 0s 56ms/step - loss: 0.7457 - val_loss: 0.8540\n",
            "Epoch 9/300\n",
            "1/1 [==============================] - 0s 59ms/step - loss: 0.7438 - val_loss: 0.8520\n",
            "Epoch 10/300\n",
            "1/1 [==============================] - 0s 63ms/step - loss: 0.7422 - val_loss: 0.8502\n",
            "Epoch 11/300\n",
            "1/1 [==============================] - 0s 51ms/step - loss: 0.7398 - val_loss: 0.8498\n",
            "Epoch 12/300\n",
            "1/1 [==============================] - 0s 65ms/step - loss: 0.7385 - val_loss: 0.8492\n",
            "Epoch 13/300\n",
            "1/1 [==============================] - 0s 58ms/step - loss: 0.7361 - val_loss: 0.8500\n",
            "Epoch 14/300\n",
            "1/1 [==============================] - 0s 53ms/step - loss: 0.7341 - val_loss: 0.8501\n",
            "Epoch 15/300\n",
            "1/1 [==============================] - 0s 60ms/step - loss: 0.7314 - val_loss: 0.8489\n",
            "Epoch 16/300\n",
            "1/1 [==============================] - 0s 57ms/step - loss: 0.7289 - val_loss: 0.8466\n",
            "Epoch 17/300\n",
            "1/1 [==============================] - 0s 52ms/step - loss: 0.7268 - val_loss: 0.8443\n",
            "Epoch 18/300\n",
            "1/1 [==============================] - 0s 54ms/step - loss: 0.7246 - val_loss: 0.8443\n",
            "Epoch 19/300\n",
            "1/1 [==============================] - 0s 71ms/step - loss: 0.7221 - val_loss: 0.8452\n",
            "Epoch 20/300\n",
            "1/1 [==============================] - 0s 54ms/step - loss: 0.7205 - val_loss: 0.8451\n",
            "Epoch 21/300\n",
            "1/1 [==============================] - 0s 55ms/step - loss: 0.7188 - val_loss: 0.8437\n",
            "Epoch 22/300\n",
            "1/1 [==============================] - 0s 56ms/step - loss: 0.7169 - val_loss: 0.8428\n",
            "Epoch 23/300\n",
            "1/1 [==============================] - 0s 56ms/step - loss: 0.7155 - val_loss: 0.8421\n",
            "Epoch 24/300\n",
            "1/1 [==============================] - 0s 66ms/step - loss: 0.7140 - val_loss: 0.8425\n",
            "Epoch 25/300\n",
            "1/1 [==============================] - 0s 55ms/step - loss: 0.7128 - val_loss: 0.8426\n",
            "Epoch 26/300\n",
            "1/1 [==============================] - 0s 55ms/step - loss: 0.7117 - val_loss: 0.8415\n",
            "Epoch 27/300\n",
            "1/1 [==============================] - 0s 53ms/step - loss: 0.7102 - val_loss: 0.8409\n",
            "Epoch 28/300\n",
            "1/1 [==============================] - 0s 51ms/step - loss: 0.7092 - val_loss: 0.8403\n",
            "Epoch 29/300\n",
            "1/1 [==============================] - 0s 67ms/step - loss: 0.7081 - val_loss: 0.8398\n",
            "Epoch 30/300\n",
            "1/1 [==============================] - 0s 55ms/step - loss: 0.7070 - val_loss: 0.8399\n",
            "Epoch 31/300\n",
            "1/1 [==============================] - 0s 57ms/step - loss: 0.7060 - val_loss: 0.8401\n",
            "Epoch 32/300\n",
            "1/1 [==============================] - 0s 55ms/step - loss: 0.7053 - val_loss: 0.8402\n",
            "Epoch 33/300\n",
            "1/1 [==============================] - 0s 54ms/step - loss: 0.7043 - val_loss: 0.8397\n",
            "Epoch 34/300\n",
            "1/1 [==============================] - 0s 59ms/step - loss: 0.7032 - val_loss: 0.8393\n",
            "Epoch 35/300\n",
            "1/1 [==============================] - 0s 71ms/step - loss: 0.7024 - val_loss: 0.8391\n",
            "Epoch 36/300\n",
            "1/1 [==============================] - 0s 52ms/step - loss: 0.7015 - val_loss: 0.8391\n",
            "Epoch 37/300\n",
            "1/1 [==============================] - 0s 53ms/step - loss: 0.7007 - val_loss: 0.8386\n",
            "Epoch 38/300\n",
            "1/1 [==============================] - 0s 56ms/step - loss: 0.6998 - val_loss: 0.8381\n",
            "Epoch 39/300\n",
            "1/1 [==============================] - 0s 54ms/step - loss: 0.6989 - val_loss: 0.8381\n",
            "Epoch 40/300\n",
            "1/1 [==============================] - 0s 60ms/step - loss: 0.6982 - val_loss: 0.8385\n",
            "Epoch 41/300\n",
            "1/1 [==============================] - 0s 57ms/step - loss: 0.6974 - val_loss: 0.8389\n",
            "Epoch 42/300\n",
            "1/1 [==============================] - 0s 59ms/step - loss: 0.6966 - val_loss: 0.8388\n",
            "Epoch 43/300\n",
            "1/1 [==============================] - 0s 57ms/step - loss: 0.6957 - val_loss: 0.8388\n",
            "Epoch 44/300\n",
            "1/1 [==============================] - 0s 53ms/step - loss: 0.6949 - val_loss: 0.8388\n",
            "Epoch 45/300\n",
            "1/1 [==============================] - 0s 68ms/step - loss: 0.6942 - val_loss: 0.8384\n",
            "Epoch 46/300\n",
            "1/1 [==============================] - 0s 72ms/step - loss: 0.6935 - val_loss: 0.8382\n",
            "Epoch 47/300\n",
            "1/1 [==============================] - 0s 58ms/step - loss: 0.6928 - val_loss: 0.8385\n",
            "Epoch 48/300\n",
            "1/1 [==============================] - 0s 54ms/step - loss: 0.6922 - val_loss: 0.8387\n",
            "Epoch 49/300\n",
            "1/1 [==============================] - 0s 62ms/step - loss: 0.6915 - val_loss: 0.8389\n",
            "Epoch 50/300\n",
            "1/1 [==============================] - 0s 56ms/step - loss: 0.6909 - val_loss: 0.8384\n",
            "Epoch 51/300\n",
            "1/1 [==============================] - 0s 54ms/step - loss: 0.6902 - val_loss: 0.8379\n",
            "Epoch 52/300\n",
            "1/1 [==============================] - 0s 54ms/step - loss: 0.6896 - val_loss: 0.8379\n",
            "Epoch 53/300\n",
            "1/1 [==============================] - 0s 54ms/step - loss: 0.6891 - val_loss: 0.8380\n",
            "Epoch 54/300\n",
            "1/1 [==============================] - 0s 66ms/step - loss: 0.6885 - val_loss: 0.8382\n",
            "Epoch 55/300\n",
            "1/1 [==============================] - 0s 58ms/step - loss: 0.6880 - val_loss: 0.8380\n",
            "Epoch 56/300\n",
            "1/1 [==============================] - 0s 54ms/step - loss: 0.6874 - val_loss: 0.8377\n",
            "Epoch 57/300\n",
            "1/1 [==============================] - 0s 55ms/step - loss: 0.6870 - val_loss: 0.8374\n",
            "Epoch 58/300\n",
            "1/1 [==============================] - 0s 62ms/step - loss: 0.6864 - val_loss: 0.8372\n",
            "Epoch 59/300\n",
            "1/1 [==============================] - 0s 50ms/step - loss: 0.6859 - val_loss: 0.8377\n",
            "Epoch 60/300\n",
            "1/1 [==============================] - 0s 53ms/step - loss: 0.6855 - val_loss: 0.8381\n",
            "Epoch 61/300\n",
            "1/1 [==============================] - 0s 56ms/step - loss: 0.6850 - val_loss: 0.8385\n",
            "Epoch 62/300\n",
            "1/1 [==============================] - 0s 57ms/step - loss: 0.6846 - val_loss: 0.8383\n",
            "Epoch 63/300\n",
            "1/1 [==============================] - 0s 67ms/step - loss: 0.6841 - val_loss: 0.8379\n",
            "Epoch 64/300\n",
            "1/1 [==============================] - 0s 60ms/step - loss: 0.6837 - val_loss: 0.8379\n",
            "Epoch 65/300\n",
            "1/1 [==============================] - 0s 56ms/step - loss: 0.6833 - val_loss: 0.8379\n",
            "Epoch 66/300\n",
            "1/1 [==============================] - 0s 52ms/step - loss: 0.6829 - val_loss: 0.8379\n",
            "Epoch 67/300\n",
            "1/1 [==============================] - 0s 56ms/step - loss: 0.6825 - val_loss: 0.8377\n",
            "Epoch 68/300\n",
            "1/1 [==============================] - 0s 57ms/step - loss: 0.6821 - val_loss: 0.8378\n",
            "Epoch 69/300\n",
            "1/1 [==============================] - 0s 51ms/step - loss: 0.6818 - val_loss: 0.8380\n",
            "Epoch 70/300\n",
            "1/1 [==============================] - 0s 58ms/step - loss: 0.6814 - val_loss: 0.8381\n",
            "Epoch 71/300\n",
            "1/1 [==============================] - 0s 56ms/step - loss: 0.6810 - val_loss: 0.8380\n",
            "Epoch 72/300\n",
            "1/1 [==============================] - 0s 66ms/step - loss: 0.6807 - val_loss: 0.8382\n",
            "Epoch 73/300\n",
            "1/1 [==============================] - 0s 67ms/step - loss: 0.6804 - val_loss: 0.8382\n",
            "Epoch 74/300\n",
            "1/1 [==============================] - 0s 60ms/step - loss: 0.6800 - val_loss: 0.8384\n",
            "Epoch 75/300\n",
            "1/1 [==============================] - 0s 53ms/step - loss: 0.6798 - val_loss: 0.8383\n",
            "Epoch 76/300\n",
            "1/1 [==============================] - 0s 55ms/step - loss: 0.6794 - val_loss: 0.8382\n",
            "Epoch 77/300\n",
            "1/1 [==============================] - 0s 56ms/step - loss: 0.6791 - val_loss: 0.8382\n",
            "Epoch 78/300\n",
            "1/1 [==============================] - 0s 56ms/step - loss: 0.6789 - val_loss: 0.8381\n",
            "Epoch 79/300\n",
            "1/1 [==============================] - 0s 62ms/step - loss: 0.6786 - val_loss: 0.8380\n",
            "Epoch 80/300\n",
            "1/1 [==============================] - 0s 55ms/step - loss: 0.6784 - val_loss: 0.8379\n",
            "Epoch 81/300\n",
            "1/1 [==============================] - 0s 56ms/step - loss: 0.6781 - val_loss: 0.8379\n",
            "Epoch 82/300\n",
            "1/1 [==============================] - 0s 57ms/step - loss: 0.6779 - val_loss: 0.8378\n",
            "Epoch 83/300\n",
            "1/1 [==============================] - 0s 62ms/step - loss: 0.6776 - val_loss: 0.8378\n",
            "Epoch 84/300\n",
            "1/1 [==============================] - 0s 59ms/step - loss: 0.6774 - val_loss: 0.8379\n",
            "Epoch 85/300\n",
            "1/1 [==============================] - 0s 58ms/step - loss: 0.6772 - val_loss: 0.8380\n",
            "Epoch 86/300\n",
            "1/1 [==============================] - 0s 54ms/step - loss: 0.6770 - val_loss: 0.8380\n",
            "Epoch 87/300\n",
            "1/1 [==============================] - 0s 56ms/step - loss: 0.6769 - val_loss: 0.8379\n",
            "Epoch 88/300\n",
            "1/1 [==============================] - 0s 58ms/step - loss: 0.6767 - val_loss: 0.8379\n",
            "Epoch 89/300\n",
            "1/1 [==============================] - 0s 55ms/step - loss: 0.6765 - val_loss: 0.8378\n",
            "Epoch 90/300\n",
            "1/1 [==============================] - 0s 54ms/step - loss: 0.6764 - val_loss: 0.8381\n",
            "Epoch 91/300\n",
            "1/1 [==============================] - 0s 53ms/step - loss: 0.6762 - val_loss: 0.8381\n",
            "Epoch 92/300\n",
            "1/1 [==============================] - 0s 67ms/step - loss: 0.6761 - val_loss: 0.8381\n",
            "Epoch 93/300\n",
            "1/1 [==============================] - 0s 61ms/step - loss: 0.6759 - val_loss: 0.8382\n",
            "Epoch 94/300\n",
            "1/1 [==============================] - 0s 55ms/step - loss: 0.6757 - val_loss: 0.8382\n",
            "Epoch 95/300\n",
            "1/1 [==============================] - 0s 54ms/step - loss: 0.6755 - val_loss: 0.8384\n",
            "Epoch 96/300\n",
            "1/1 [==============================] - 0s 67ms/step - loss: 0.6754 - val_loss: 0.8387\n",
            "Epoch 97/300\n",
            "1/1 [==============================] - 0s 57ms/step - loss: 0.6753 - val_loss: 0.8388\n",
            "Epoch 98/300\n",
            "1/1 [==============================] - 0s 58ms/step - loss: 0.6752 - val_loss: 0.8389\n",
            "Epoch 98: early stopping\n"
          ]
        }
      ]
    },
    {
      "cell_type": "code",
      "source": [
        "model_b.visualize_training()"
      ],
      "metadata": {
        "colab": {
          "base_uri": "https://localhost:8080/",
          "height": 279
        },
        "id": "_aQ2Hnb0bwnV",
        "outputId": "e939cf1e-4efe-4f60-afc3-6622495f76e3"
      },
      "execution_count": 175,
      "outputs": [
        {
          "output_type": "display_data",
          "data": {
            "text/plain": [
              "<Figure size 432x288 with 1 Axes>"
            ],
            "image/png": "[encoded data removed]"
          },
          "metadata": {
            "needs_background": "light"
          }
        }
      ]
    }
  ]
}